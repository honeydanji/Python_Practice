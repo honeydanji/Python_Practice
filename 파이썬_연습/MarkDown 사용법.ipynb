{
 "cells": [
  {
   "cell_type": "markdown",
   "id": "dda74e32",
   "metadata": {},
   "source": [
    "# MarkDown 사용법\n",
    "1. 제목\n",
    "# 첫 번째 큰 제목\n",
    "## 두 번째 큰 제목\n",
    "### 세 번째 큰 제목\n",
    "#### 네 번째 제목\n",
    "##### 다섯 번째 제목\n",
    "###### 여섯 번째 제목\n",
    "\n",
    "2. 줄바꿈\n",
    "<br> 태그를 이용해서 줄바꿈을 사용할 수 있는데, 마크다운에서는 간단하게 띄어쓰기 두 번을 하고 enter을 누르면 줄을 바꿀 수 있다.\n",
    "\n",
    "3. 목록\n",
    "+ 첫번째\n",
    "+ 두번째\n",
    "+ 세번째\n",
    "\n",
    "- 첫번째\n",
    "- 두번째\n",
    "- 세번째\n",
    "\n",
    "* 첫번째\n",
    "* 두번째\n",
    "* 세번째\n",
    "\n",
    "+ 첫번째\n",
    "   + 두번째\n",
    "      + 세번째\n",
    "\n",
    "- 첫번째\n",
    "   - 두번째\n",
    "      - 세번째\n",
    "\n",
    "* 첫번째\n",
    "   * 두번째\n",
    "      * 세번째\n",
    "        \n",
    "4. 수평선\n",
    "* * *\n",
    "***\n",
    "*****\n",
    "- - -\n",
    "----------------\n",
    "\n",
    "5. 강조\n",
    "*기울어진 글씨*  \n",
    "_기울어진 글씨_  \n",
    "**굵은 글씨**  \n",
    "__굵은 글씨__  \n",
    "~~줄그어진 글씨~~"
   ]
  }
 ],
 "metadata": {
  "kernelspec": {
   "display_name": "Python 3 (ipykernel)",
   "language": "python",
   "name": "python3"
  },
  "language_info": {
   "codemirror_mode": {
    "name": "ipython",
    "version": 3
   },
   "file_extension": ".py",
   "mimetype": "text/x-python",
   "name": "python",
   "nbconvert_exporter": "python",
   "pygments_lexer": "ipython3",
   "version": "3.10.9"
  }
 },
 "nbformat": 4,
 "nbformat_minor": 5
}
