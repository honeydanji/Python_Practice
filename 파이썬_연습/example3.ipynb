{
 "cells": [
  {
   "cell_type": "markdown",
   "id": "d570a0b2",
   "metadata": {},
   "source": [
    "# 문자열 함수 연습문제"
   ]
  },
  {
   "cell_type": "code",
   "execution_count": 19,
   "id": "ce0ae445",
   "metadata": {},
   "outputs": [
    {
     "name": "stdout",
     "output_type": "stream",
     "text": [
      "5\n",
      "hellohellohellohellohellohellohellohellohellohello\n",
      "첫 번째 문자는 h\n",
      "h\n",
      "e\n",
      "l\n",
      "l\n",
      "l\n",
      "o\n",
      "olleh\n"
     ]
    }
   ],
   "source": [
    "s = \"hello\"\n",
    "# 문자열의 문자수를 출력하라-- lne()\n",
    "print(len(s)) \n",
    "\n",
    "# 문자열을 10번 반복한 문자열을 출력하라\n",
    "print(s * 10)\n",
    "\n",
    "# 문자열의 첫 번째 문자를 출력하라-- 문자열 자체가 배열처럼 인덱스 적용이 된다.\n",
    "print(f\"첫 번째 문자는 {s[0]}\")\n",
    "\n",
    "# 문자열에서 처음 3문자를 출력하라\n",
    "for i in range(0, 3):\n",
    "    print(s[i])\n",
    "\n",
    "# 문자열에서 마지막 3문자를 출력하라\n",
    "for i in range(-3, 0):\n",
    "    print(s[i])\n",
    "\n",
    "# 문자열의 문자를 거꾸로 출력하라\n",
    "reversed_s = s[::-1]\n",
    "print(reversed_s)\n"
   ]
  }
 ],
 "metadata": {
  "kernelspec": {
   "display_name": "Python 3 (ipykernel)",
   "language": "python",
   "name": "python3"
  },
  "language_info": {
   "codemirror_mode": {
    "name": "ipython",
    "version": 3
   },
   "file_extension": ".py",
   "mimetype": "text/x-python",
   "name": "python",
   "nbconvert_exporter": "python",
   "pygments_lexer": "ipython3",
   "version": "3.10.9"
  }
 },
 "nbformat": 4,
 "nbformat_minor": 5
}
