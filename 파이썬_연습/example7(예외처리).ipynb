{
 "cells": [
  {
   "attachments": {},
   "cell_type": "markdown",
   "metadata": {},
   "source": [
    "# 파이썬 예외처리"
   ]
  },
  {
   "attachments": {},
   "cell_type": "markdown",
   "metadata": {},
   "source": [
    "### 파이썬에서의 기본 예외 종류\n",
    "\n",
    "- ValueError: 잘못된 값이 사용될 때 발생\n",
    "- TypeError: 잘못된 타입의 객체가 사용될 때 발생\n",
    "- IndexError: 인덱스 범위를 벗어난 경우 발생\n",
    "- KeyError: 사전에서 존재하지 않는 키를 참조할 때 발생\n",
    "- FileNotFoundError: 존재하지 않는 파일을 열려고 시도할 때 발생\n"
   ]
  },
  {
   "attachments": {},
   "cell_type": "markdown",
   "metadata": {},
   "source": [
    "## 예제1 \n",
    "### as 키워드\n",
    "1. 모듈 임포트:\n",
    "    - as 키워드는 모듈을 임포트할 때, 해당 모듈의 이름을 다른 이름으로 사용하고자 할 때 사용됩니다.\n",
    "2. 예외 처리:\n",
    "    - as 키워드는 try-except 문에서 발생한 예외 객체를 특정 변수에 할당할 때 사용됩니다. 이렇게 함으로써 발생한 예외 객체를 참조하고, 예외에 대한 추가 정보를 확인하거나 출력할 수 있습니다"
   ]
  },
  {
   "cell_type": "code",
   "execution_count": 1,
   "metadata": {},
   "outputs": [
    {
     "name": "stdout",
     "output_type": "stream",
     "text": [
      "An error occurred: [Errno 2] No such file or directory: 'non_existent_file.txt'\n"
     ]
    }
   ],
   "source": [
    "try:\n",
    "    # 예외가 발생할 수 있는 코드를 실행합니다.\n",
    "    file = open(\"non_existent_file.txt\", \"r\")\n",
    "    result = 5 / 0\n",
    "    int(\"not_a_number\")\n",
    "except FileNotFoundError as error:\n",
    "    print(f\"An error occurred: {error}\")\n",
    "except ZeroDivisionError as error:\n",
    "    print(f\"An error occurred: {error}\")\n",
    "except ValueError as error:\n",
    "    print(f\"An error occurred: {error}\")\n"
   ]
  },
  {
   "attachments": {},
   "cell_type": "markdown",
   "metadata": {},
   "source": [
    "## 예제2\n",
    "\n",
    "#### except Exception as e\n",
    "- try-except 문에서 발생한 모든 예외를 처리하는 방법입니다. 이 구문을 사용하면, 발생한 예외를 변수로 받아 처리할 수 있습니다.\n",
    "##### Exception\n",
    "- 파이썬에서 모든 예외 클래스의 기본 클래스입니다. 이 클래스를 사용하면 어떤 종류의 예외든 처리할 수 있습니다.\n"
   ]
  },
  {
   "cell_type": "code",
   "execution_count": null,
   "metadata": {},
   "outputs": [],
   "source": [
    "try:\n",
    "    # 예외가 발생할 수 있는 코드\n",
    "    user_input = input(\"Enter a number: \")\n",
    "    number = int(user_input)\n",
    "    result = 10 / number\n",
    "except Exception as e:\n",
    "    print(f\"An error occurred: {e}\")\n"
   ]
  },
  {
   "attachments": {},
   "cell_type": "markdown",
   "metadata": {},
   "source": [
    "## 예제3\n",
    "\n",
    "### try-except-else\n",
    "- try: 예외가 발생할 수 있는 코드\n",
    "- except [예외 타입]: 예외가 발생했을 때 실행할 코드\n",
    "- else: 예외가 발생하지 않았을 때 실행할 코드"
   ]
  },
  {
   "cell_type": "code",
   "execution_count": 3,
   "metadata": {},
   "outputs": [
    {
     "name": "stdout",
     "output_type": "stream",
     "text": [
      "Invalid input. Please enter a valid number.\n"
     ]
    }
   ],
   "source": [
    "try:\n",
    "    user_input = input(\"Enter a number: \")\n",
    "    number = int(user_input)\n",
    "except ValueError:\n",
    "    print(\"Invalid input. Please enter a valid number.\")\n",
    "else:\n",
    "    print(f\"You entered the number {number}.\")\n"
   ]
  },
  {
   "attachments": {},
   "cell_type": "markdown",
   "metadata": {},
   "source": [
    "## 연습문제\n",
    "\n",
    "* data = {\"Sun\": 0, \"Mon\": 1, \"Tue\": 2, \"Wed\": 3, \"Thu\": 4, \"Fri\": 5, \"Sat\": 6} 이 주어질 때 try-except문을 이용하여 다음과 같이 동작하는 프로그램을 작성하라.           \n",
    "    - 사용자로부터 문자열을 입력 받는다\n",
    "    - 문자열이 data의 key와 같으면 value를 출력하고 다시 문자열을 입력 받는다\n",
    "    - 문자열 에 해당하는 key가 없으면 \"항목이 없습니다\"라는 메시지를 출력하고 종료한다.\n",
    "\n",
    "\n",
    "* 위 문제를 try-except를 이용하지 않고 프로그램할 수 있는가? 차이점은 무엇인가?\n"
   ]
  },
  {
   "cell_type": "code",
   "execution_count": 1,
   "metadata": {},
   "outputs": [
    {
     "name": "stdout",
     "output_type": "stream",
     "text": [
      "None\n",
      "None\n",
      "None\n",
      "None\n",
      "None\n",
      "None\n",
      "None\n"
     ]
    }
   ],
   "source": [
    "# try-except를 사용하지 않고 예외처리하기.\n",
    "data = {\"Sun\": 0, \"Mon\": 1, \"Tue\": 2, \"Wed\": 3, \"Thu\": 4, \"Fri\": 5, \"Sat\": 6}\n",
    "\n",
    "# while True:\n",
    "#     user_input = input(\"요일을 입력하세요.\")\n",
    "#     value = data.get(user_input)\n",
    "\n",
    "#     if value is not None:\n",
    "#         print(value)\n",
    "#     else:\n",
    "#         print(\"항목이 없습니다.\")\n",
    "#         break\n",
    "\n",
    "# try-except 사용해서 예외 처리하기\n",
    "\n",
    "while True:\n",
    "    try:   \n",
    "        user_input = input(\"요일을 입력하세요.\")\n",
    "        value = data.get(user_input)\n",
    "        print(value)\n",
    "    except Exception as e:\n",
    "        print(f\"An error occurred: {e}\")\n"
   ]
  }
 ],
 "metadata": {
  "kernelspec": {
   "display_name": "base",
   "language": "python",
   "name": "python3"
  },
  "language_info": {
   "codemirror_mode": {
    "name": "ipython",
    "version": 3
   },
   "file_extension": ".py",
   "mimetype": "text/x-python",
   "name": "python",
   "nbconvert_exporter": "python",
   "pygments_lexer": "ipython3",
   "version": "3.10.9"
  },
  "orig_nbformat": 4
 },
 "nbformat": 4,
 "nbformat_minor": 2
}
