{
 "cells": [
  {
   "attachments": {},
   "cell_type": "markdown",
   "id": "931f9ee2",
   "metadata": {},
   "source": [
    "# if, elif, else 연습"
   ]
  },
  {
   "attachments": {},
   "cell_type": "markdown",
   "id": "c835f02d",
   "metadata": {},
   "source": [
    "사용자로부터 국어, 영어, 수학 세 과목의 성적을 입력받아, 각 과목의 평균 점수와 총 평균 점수를 계산한 후, 학점을 출력하는 프로그램을 작성하세요.\n",
    "평균 점수는 소수점 둘째자리까지 출력합니다.\n",
    "\n",
    "총 평균 점수는 국어: 40%, 영어: 40%, 수학: 20%로 가중치를 부여하여 계산합니다.\n",
    "총 평균 점수가 90점 이상인 경우 \"A\", 80점 이상인 경우 \"B\", 70점 이상인 경우 \"C\", 60점 이상인 경우 \"D\", 60점 미만인 경우 \"F\"를 출력합니다.\n"
   ]
  },
  {
   "cell_type": "code",
   "execution_count": 1,
   "id": "7237364f",
   "metadata": {
    "scrolled": false
   },
   "outputs": [
    {
     "name": "stdout",
     "output_type": "stream",
     "text": [
      "국어 성적을 입력하세요: 70\n",
      "영어 성적을 입력하세요: 70\n",
      "수학 성적을 입력하세요: 70\n",
      "국어: 70점, 영어: 70점, 수학: 70점\n",
      "각 과목의 평균 점수: 70.00점, 70.00점, 70.00점\n",
      "총 평균 점수: 70.00점\n",
      "학점 : C.\n"
     ]
    }
   ],
   "source": [
    "korean = int(input(\"국어 성적을 입력하세요: \"))\n",
    "english = int(input(\"영어 성적을 입력하세요: \"))\n",
    "math = int(input(\"수학 성적을 입력하세요: \"))\n",
    "avg = ((korean + english + math)/3)\n",
    "\n",
    "print(\"국어: {}점, 영어: {}점, 수학: {}점\".format(korean, english, math))\n",
    "print(\"각 과목의 평균 점수: {:.2f}점, {:.2f}점, {:.2f}점\".format(korean, english, math))\n",
    "print(\"총 평균 점수: {:.2f}점\".format(avg))\n",
    "grade = \"A\" if avg >= 90 else (\"B\" if avg >= 80 else (\"C\" if avg >=70 else (\"D\" if avg >= 60 else \"F\")))\n",
    "print(\"학점 : %s.\"%(grade))"
   ]
  },
  {
   "attachments": {},
   "cell_type": "markdown",
   "id": "dcf74116",
   "metadata": {},
   "source": [
    "사용자로부터 cm 단위의 길이를 입력 받는다. 입력 값이 음수이면 \"잘못 입력하였습니다\"라는 메시지를 출력하고 양수이면 길이를 인치로 변환하여 출력하는 프로그램을 작성하라. 1인치 = 2.54cm"
   ]
  },
  {
   "cell_type": "code",
   "execution_count": 14,
   "id": "590c5cd0",
   "metadata": {},
   "outputs": [
    {
     "name": "stdout",
     "output_type": "stream",
     "text": [
      "단위길이를 입력하세요: 5\n",
      "길이: 1.968503937007874 inch\n"
     ]
    }
   ],
   "source": [
    "cm = int(input(\"단위길이를 입력하세요: \"))\n",
    "if cm < 0:\n",
    "    messege = \"잘못 입력하였습니다.\"\n",
    "elif cm > 0:\n",
    "    inch = cm / 2.54\n",
    "    messege = inch\n",
    "print(\"길이:\", messege, \"inch\")    "
   ]
  },
  {
   "attachments": {},
   "cell_type": "markdown",
   "id": "3d1f4302",
   "metadata": {},
   "source": [
    "사용자로부터 이수한 학점을 입력 받는다. 학점이 40학점 미만이면 \"1학년입니다\"를 출력하고, 40이상 80미만이면 \"2학년입니다\"를 출력한다. 학점이 80이상이면 \"졸업반입니다\"를 출력하는 프로그램을 작성하라.\n"
   ]
  },
  {
   "cell_type": "code",
   "execution_count": 9,
   "id": "d8f18cdd",
   "metadata": {},
   "outputs": [
    {
     "name": "stdout",
     "output_type": "stream",
     "text": [
      "학점을 입력하세요 :30\n",
      "30 학점 :  1학년입니다.\n"
     ]
    }
   ],
   "source": [
    "score = int(input(\"학점을 입력하세요 :\"))\n",
    "if score >= 80:\n",
    "    messege =\"졸업반입니다.\"\n",
    "elif score >= 40 and score < 80:\n",
    "    messege =\"2학년입니다.\"\n",
    "else:\n",
    "    messege =\"1학년입니다.\"\n",
    "print(score,\"학점 : \",messege)    "
   ]
  },
  {
   "attachments": {},
   "cell_type": "markdown",
   "id": "00feed3f",
   "metadata": {},
   "source": [
    "사용자로부터 현재 시간을 나타내는 1~12의 숫자를 입력 받는다. 또 \"am\" 혹은 \"pm\"을 입력 받고 경과 시간을 나타내는 값을 입력 받는다. 이로부터 최종 시간이 몇 시인지 출력하는 프로그램을 작성하라.\n"
   ]
  },
  {
   "cell_type": "code",
   "execution_count": 24,
   "id": "d5a7c1c1",
   "metadata": {},
   "outputs": [
    {
     "name": "stdout",
     "output_type": "stream",
     "text": [
      "현재 시간: 8\n",
      "경과 시간: 5\n",
      "pm 13 :00\n"
     ]
    }
   ],
   "source": [
    "clock = int(input(\"현재 시간: \"))\n",
    "time = int(input(\"경과 시간: \"))\n",
    "elapsed_time = clock + time\n",
    "if elapsed_time > 0 and elapsed_time <= 12:\n",
    "    print(\"am\",elapsed_time,\":00\")\n",
    "elif elapsed_time > 12 and elapsed_time <= 23:\n",
    "    print(\"pm\",elapsed_time,\":00\")\n",
    "elif elapsed_time == 24:\n",
    "    print(\"pm 00:00\")"
   ]
  },
  {
   "attachments": {},
   "cell_type": "markdown",
   "id": "8ce07f04",
   "metadata": {},
   "source": [
    "# while, for, 2중 for 연습"
   ]
  },
  {
   "attachments": {},
   "cell_type": "markdown",
   "id": "dd9e4cb8",
   "metadata": {},
   "source": [
    "사용자로부터 양의 정수 n을 입력받아, 1부터 n까지의 자연수 중에서 3의 배수와 5의 배수의 합을 구하고, 이를 출력하는 프로그램을 작성하세요.\n",
    "- 사용자로부터 입력받는 정수 n은 1 이상의 양의 정수입니다.\n",
    "- 자연수 1부터 n까지의 숫자 중에서 3의 배수 또는 5의 배수인 숫자들의 합을 구합니다.\n",
    "- 결과값은 정수형으로 출력합니다.\n"
   ]
  },
  {
   "cell_type": "code",
   "execution_count": 22,
   "id": "3f9d3e1b",
   "metadata": {},
   "outputs": [
    {
     "name": "stdout",
     "output_type": "stream",
     "text": [
      "양의 정수를 입력해주세요: 500\n",
      "8415\n",
      "1부터 500까지의 자연수 중에서 3과 5의 배수의 합:8415\n"
     ]
    }
   ],
   "source": [
    "n = int(input(\"양의 정수를 입력해주세요: \"))\n",
    "summ = 0\n",
    "for i in range(1, n + 1):\n",
    "    if (i % 3 == 0) and (i % 5 == 0):\n",
    "        summ+=i\n",
    "print(summ)        \n",
    "        \n",
    "output= f\"1부터 {n}까지의 자연수 중에서 3과 5의 배수의 합:{summ}\"\n",
    "print(output)"
   ]
  },
  {
   "attachments": {},
   "cell_type": "markdown",
   "id": "5cd32883",
   "metadata": {},
   "source": [
    "사용자로부터 5개의 정수형 숫자를 입력받아, 입력받은 숫자들 중에서 최댓값과 최솟값을 찾고, 이를 출력하는 프로그램을 작성하세요.\n",
    "- 입력받은 숫자는 1 이상 100 이하의 자연수입니다.\n",
    "- 입력받은 숫자 중 중복된 숫자가 있을 수 있습니다."
   ]
  },
  {
   "cell_type": "code",
   "execution_count": 25,
   "id": "41d5fa5c",
   "metadata": {},
   "outputs": [
    {
     "name": "stdout",
     "output_type": "stream",
     "text": [
      "숫자를 입력하세요: 5\n",
      "1번째 숫자를 입력하세요 :40\n",
      "2번째 숫자를 입력하세요 :24\n",
      "3번째 숫자를 입력하세요 :56\n",
      "4번째 숫자를 입력하세요 :86\n",
      "5번째 숫자를 입력하세요 :32\n",
      "Max num: 86, Min num: 24\n"
     ]
    }
   ],
   "source": [
    "max_num = 0\n",
    "min_num = 100\n",
    "\n",
    "n = int(input(\"숫자를 입력하세요: \"))\n",
    "for i in range(1, n + 1):\n",
    "    num = int(input(\"{}번째 숫자를 입력하세요 :\".format(i)))\n",
    "    \n",
    "    if num > max_num:\n",
    "        max_num = num\n",
    "        \n",
    "    if num < min_num:\n",
    "        min_num = num\n",
    "\n",
    "output = f\"Max num: {max_num}, Min num: {min_num}\"\n",
    "print(output)"
   ]
  },
  {
   "attachments": {},
   "cell_type": "markdown",
   "id": "bfdedc42",
   "metadata": {},
   "source": [
    "사용자로부터 정수형 숫자를 입력받아, 입력받은 숫자들의 합이 100보다 작을 때까지 숫자를 계속 입력받고, 입력받은 숫자들의 합을 출력하는 프로그램을 작성하세요.\n",
    "- 입력받은 숫자는 1 이상 100 이하의 자연수입니다."
   ]
  },
  {
   "cell_type": "code",
   "execution_count": 2,
   "id": "3523792e",
   "metadata": {},
   "outputs": [
    {
     "name": "stdout",
     "output_type": "stream",
     "text": [
      "정수를 입력해주세요: 20\n",
      "정수를 입력해주세요: 20\n",
      "정수를 입력해주세요: 20\n",
      "정수를 입력해주세요: 20\n",
      "정수를 입력해주세요: 20\n",
      "총 합:100\n"
     ]
    }
   ],
   "source": [
    "summ = 0\n",
    "\n",
    "while summ<100:\n",
    "    n = int(input(\"정수를 입력해주세요: \"))\n",
    "    summ += n\n",
    "    \n",
    "print(f\"총 합:{summ}\")"
   ]
  },
  {
   "attachments": {},
   "cell_type": "markdown",
   "id": "a53eba1e",
   "metadata": {},
   "source": [
    "피보나치 수열은 다음과 같이 정의됩니다: 첫 번째 항과 두 번째 항은 각각 1입니다. 세 번째 항부터는 바로 앞 두 항의 합입니다. 즉, 1, 1, 2, 3, 5, 8, 13, ... 과 같은 수열입니다.\n",
    "- 예를 들어, 사용자가 7을 입력했을 경우 다음과 같이 출력되어야 합니다.\n"
   ]
  },
  {
   "cell_type": "code",
   "execution_count": 2,
   "id": "9fdb1dfe",
   "metadata": {},
   "outputs": [
    {
     "name": "stdout",
     "output_type": "stream",
     "text": [
      "피보나치 수열 13번째항: 233\n"
     ]
    }
   ],
   "source": [
    "n = int(input(\"출력할 항을 입력해주세요:\"))\n",
    "\n",
    "if n == 1 or n == 2:\n",
    "    result = 1\n",
    "else:\n",
    "    a1, a2 = 1, 1\n",
    "    count = 3\n",
    "    while count <= n:\n",
    "        a = a1 + a2\n",
    "        a1 = a2\n",
    "        a2 = a\n",
    "        count += 1\n",
    "print(f\"피보나치 수열 {n}번째항: {a}\")\n"
   ]
  },
  {
   "attachments": {},
   "cell_type": "markdown",
   "id": "244e7c5a",
   "metadata": {},
   "source": [
    "두 주사위를 던졌을 때, 합이 7이 되면 이김, 그렇지 않으면 지는 간단한 주사위 게임을 만들어보세요.\n",
    "- (힌트: random 모듈의 randint() 함수를 사용하세요.)"
   ]
  },
  {
   "cell_type": "code",
   "execution_count": 16,
   "id": "def119a8",
   "metadata": {},
   "outputs": [
    {
     "name": "stdout",
     "output_type": "stream",
     "text": [
      "두 주사위의 합:11\n",
      "두 주사위의 합:13\n",
      "두 주사위의 합:3\n",
      "두 주사위의 합:8\n",
      "두 주사위의 합:8\n",
      "두 주사위의 합:10\n",
      "두 주사위의 합:10\n",
      "두 주사위의 합:2\n",
      "두 주사위의 합:9\n",
      "9번 시도해서 이겼습니다.\n"
     ]
    }
   ],
   "source": [
    "import random\n",
    "count = 0\n",
    "while True:\n",
    "    dice_one = random.randint(1, 7)\n",
    "    dice_two = random.randint(1, 7)\n",
    "    if dice_one + dice_two == 7:\n",
    "        print(f\"{count}번 시도해서 이겼습니다.\")\n",
    "        break\n",
    "    else:\n",
    "        print(\"두 주사위의 합:{}\".format(dice_one + dice_two))\n",
    "        count+=1\n",
    "        pass"
   ]
  },
  {
   "attachments": {},
   "cell_type": "markdown",
   "id": "29e8fb8d",
   "metadata": {},
   "source": [
    "사용자로부터 두 개의 정수와 연산자를 입력받아, 입력된 연산자에 따라 두 수의 사칙연산 결과를 출력하는 계산기 프로그램을 작성하세요. 프로그램은 사용자가 \"exit\"을 입력할 때까지 계속해서 작동합니다.\n",
    "- 입력받은 숫자는 어떠한 값이든 상관없습니다.\n",
    "- 입력받은 연산자는 +, -, *, / 중 하나입니다.\n",
    "- 나눗셈 연산 결과는 실수형으로 출력하세요.\n",
    "- 분모가 0일 경우, \"0으로 나눌 수 없습니다.\"를 출력하세요.\n",
    "- 사용자가 \"exit\"을 입력할 경우, 프로그램을 종료하세요.\n"
   ]
  },
  {
   "cell_type": "code",
   "execution_count": 17,
   "id": "44283b75",
   "metadata": {},
   "outputs": [
    {
     "name": "stdout",
     "output_type": "stream",
     "text": [
      "첫 번째 수를 입력하세요 ('exit' 입력 시 종료): 4\n",
      "두 번째 수를 입력하세요 ('exit' 입력 시 종료): 4\n",
      "연산자를 입력하세요 (+, -, *, /): -\n",
      "4 - 4 = 0\n"
     ]
    }
   ],
   "source": [
    "while True:\n",
    "    num1 = int(input(\"첫 번째 수를 입력하세요 ('exit' 입력 시 종료): \"))\n",
    "    num2 = int(input(\"두 번째 수를 입력하세요 ('exit' 입력 시 종료): \"))\n",
    "    Operator = input(\"연산자를 입력하세요 (+, -, *, /): \")\n",
    "    \n",
    "    if Operator == \"+\":\n",
    "        print(f\"{num1} + {num2} = {num1+num2}\")\n",
    "        break\n",
    "    elif Operator == \"-\":\n",
    "        print(f\"{num1} - {num2} = {num1-num2}\")\n",
    "        break\n",
    "    elif Operator == \"*\":\n",
    "        print(f\"{num1} * {num2} = {num1*num2}\")\n",
    "        break\n",
    "    elif Operator == \"/\":\n",
    "        print(f\"{num1} / {num2} = {num1/num2}\")\n",
    "        break"
   ]
  },
  {
   "attachments": {},
   "cell_type": "markdown",
   "id": "ea18d5e1",
   "metadata": {},
   "source": [
    "## 숫자 맞추기 게임 프로그램\n",
    "- 1~ 100 사이의 난수를 만들고 사용자가 1~100 사이의 수를 입력하여 맞추는 프로그램. 5회까지 맞추지 못하면 종료\n"
   ]
  },
  {
   "cell_type": "code",
   "execution_count": 5,
   "id": "13efa157",
   "metadata": {},
   "outputs": [
    {
     "name": "stdout",
     "output_type": "stream",
     "text": [
      "숫자를 입력하세요: 5\n",
      "기회(1/5)\n",
      "틀렸습니다. 다시 입력하세요:\n",
      "숫자를 입력하세요: 5\n",
      "기회(2/5)\n",
      "틀렸습니다. 다시 입력하세요:\n",
      "숫자를 입력하세요: 5\n",
      "기회(3/5)\n",
      "틀렸습니다. 다시 입력하세요:\n",
      "숫자를 입력하세요: 5\n",
      "기회(4/5)\n",
      "틀렸습니다. 다시 입력하세요:\n",
      "숫자를 입력하세요: 5\n",
      "기회(5/5)\n",
      "다시 도전하세요.\n"
     ]
    }
   ],
   "source": [
    "import random\n",
    "count = 1\n",
    "while count <= 5:\n",
    "    answer = int(input(\"숫자를 입력하세요: \"))\n",
    "    ra = random.randint(1, 101)\n",
    "    if answer == ra:\n",
    "        print(\"당첨입니다.\")\n",
    "        break\n",
    "    else:\n",
    "        print(f\"기회({count}/5)\")\n",
    "        count+=1\n",
    "        if count == 6:\n",
    "            print(\"다시 도전하세요.\")\n",
    "        else:\n",
    "            print(\"틀렸습니다. 다시 입력하세요:\")"
   ]
  },
  {
   "attachments": {},
   "cell_type": "markdown",
   "id": "04982821",
   "metadata": {},
   "source": [
    "## 판치기.\n",
    "- 플레이어가 처음에 50원을 가지고 있다. \n",
    "- 동전을 한 번 던져서 앞면(1) 또는 뒷면(2)이 나온다. \n",
    "- 맞추면 9원을 따고 틀리면 10원을 잃는다. 플레이어가 돈을 모두 잃거나 100원이 되면 게임이 종료된다.\n",
    "#### Hint\n",
    "- from random import randint\n",
    "- coin = randint(1,2) #1 또는 2를 임의로 발생"
   ]
  },
  {
   "cell_type": "code",
   "execution_count": null,
   "id": "16bd9f00",
   "metadata": {},
   "outputs": [
    {
     "name": "stdout",
     "output_type": "stream",
     "text": [
      "앞면(1) or 뒷면(2) 고르세요: 1\n",
      "answer: 1 = coin: 1...일치합니다. current_player_money:59\n",
      "앞면(1) or 뒷면(2) 고르세요: 1\n",
      "answer: 1 != coin: 2...불일치합니다. current_player_money:49\n",
      "앞면(1) or 뒷면(2) 고르세요: 1\n",
      "answer: 1 != coin: 2...불일치합니다. current_player_money:39\n",
      "앞면(1) or 뒷면(2) 고르세요: 1\n",
      "answer: 1 != coin: 2...불일치합니다. current_player_money:29\n"
     ]
    }
   ],
   "source": [
    "from random import randint\n",
    "player_money = 50\n",
    "while player_money != 100 and player_money != 0:\n",
    "    answer = int(input(\"앞면(1) or 뒷면(2) 고르세요: \"))\n",
    "    coin = randint(1,2)\n",
    "    if answer == coin:\n",
    "        player_money += 9\n",
    "        print(f\"answer: {answer} = coin: {coin}...일치합니다. current_player_money:{player_money}\")\n",
    "    else:\n",
    "        player_money -= 10\n",
    "        print(f\"answer: {answer} != coin: {coin}...불일치합니다. current_player_money:{player_money}\")\n",
    "    if player_money >= 100:\n",
    "        print(\"돈을 벌었습니다.\")\n",
    "        break\n",
    "    elif player_money <= 0:\n",
    "        print(\"돈을 잃었습니다.\")\n",
    "        break"
   ]
  },
  {
   "attachments": {},
   "cell_type": "markdown",
   "id": "3b2f8ac3",
   "metadata": {},
   "source": [
    "## 두 수의 최대 공약수\n",
    "두 수의 최대 공약수는 두 수를 나누어 떨어지는 가장 큰 수이다. 예를 들어 (16, 24)의 최대 공약수는 8이다. 두 수를 입력 받아 다음 알고리즘에 의해 최대 공약수를 구하는 프로그램을 작성하라.\n",
    "\n",
    "### Hint\n",
    "- 큰 수를 작은 수로 나눈 나머지를 구하라\n",
    "- 큰 수를 작은 수로 대체하고 작은 수는 나머지로 대체하라\n",
    "- 작은 수가 0이 될 때까지 이 과정을 반목하라. 마지막 큰 수가 최대 공약수이다."
   ]
  },
  {
   "cell_type": "code",
   "execution_count": 8,
   "id": "e0657ea1",
   "metadata": {},
   "outputs": [
    {
     "name": "stdout",
     "output_type": "stream",
     "text": [
      "큰 수를 입력하세요: 24\n",
      "작은 수를 입력하세요: 16\n",
      "최대 공약수: 8\n"
     ]
    }
   ],
   "source": [
    "L_num = int(input(\"큰 수를 입력하세요: \"))\n",
    "S_num = int(input(\"작은 수를 입력하세요: \"))\n",
    "SS_num = L_num % S_num #나머지\n",
    "while SS_num != 0:\n",
    "    L_num = S_num  #작은 수가 큰수\n",
    "    S_num = SS_num #나머지가 작은수\n",
    "    SS_num = L_num % S_num #나머지가 0이 아닌 경우에는 위 과정을 반복\n",
    "\n",
    "print(f\"최대 공약수: {S_num}\")"
   ]
  },
  {
   "attachments": {},
   "cell_type": "markdown",
   "id": "e91dd34a",
   "metadata": {},
   "source": [
    "## 약수 구하기\n",
    "정수를 입력 받아 그 수의 약수를 모두 출력하는 프로그램을 작성하라 \n",
    "\n",
    "#### Hint\n",
    "- m % n = 0이면 n은 m의 약수이다.\n",
    "\n",
    "#### 예시\n",
    "- 12의 약수는 1, 2, 3, 4, 6, 12이다. "
   ]
  },
  {
   "cell_type": "code",
   "execution_count": 1,
   "id": "b38eb563",
   "metadata": {},
   "outputs": [
    {
     "name": "stdout",
     "output_type": "stream",
     "text": [
      "정수를 입력하세요: 12\n",
      "1, 2, 3, 4, 6, 12, 12의 약수의 갯수는 6개 입니다.\n"
     ]
    }
   ],
   "source": [
    "num = int(input(\"정수를 입력하세요: \"))\n",
    "count = 0\n",
    "for n in range(1, num+1):\n",
    "    if num % n == 0:\n",
    "        count += 1\n",
    "        print(n, end=', ')\n",
    "print(f\"{num}의 약수의 갯수는 {count}개 입니다.\")"
   ]
  },
  {
   "attachments": {},
   "cell_type": "markdown",
   "id": "993d7f5a",
   "metadata": {},
   "source": [
    "## 등급나누기\n",
    "\n",
    "반복문과 조건문을 사용해 점수를 계속 입력 받아 등급을 나누세요.\n",
    "- 90점 이상이면 A \n",
    "- 80점 이상이면 B \n",
    "- 60점 이상이면 C \n",
    "- 40점 이상이면 D \n",
    "- 39점 이하이면 F \n",
    "- 입력 받는 점수가 음수일 때종료한다."
   ]
  },
  {
   "cell_type": "code",
   "execution_count": 20,
   "id": "16f7f3ef",
   "metadata": {},
   "outputs": [
    {
     "name": "stdout",
     "output_type": "stream",
     "text": [
      "점수를 입력하세요: 20\n",
      "등급: F\n",
      "점수를 입력하세요: -5\n"
     ]
    }
   ],
   "source": [
    "while True:\n",
    "    score = int(input(\"점수를 입력하세요: \"))\n",
    "    if score >= 90:\n",
    "        print(\"등급: A\")\n",
    "    elif score >= 80:\n",
    "        print(\"등급: B\")\n",
    "    elif score >= 60:\n",
    "        print(\"등급: C\")\n",
    "    elif score >= 40:\n",
    "        print(\"등급: D\")\n",
    "    elif score <= 39 and score > 0:\n",
    "        print(\"등급: F\")\n",
    "    elif score < 0:\n",
    "        print(\"프로그램을 종료합니다.\")\n",
    "        break"
   ]
  },
  {
   "attachments": {},
   "cell_type": "markdown",
   "id": "173cb4fe",
   "metadata": {},
   "source": [
    "## 소수 출력하기\n",
    "임의의 자연수 n이 입력되면 2부터 n까지의 모든 소수를 출력하는 프로그램. \n",
    "#### Hint\n",
    "* 소수는 1과 자기자신으로만 나누어 떨어지는 수\n",
    "#### 예시\n",
    "* 예 5, 7"
   ]
  },
  {
   "cell_type": "code",
   "execution_count": 32,
   "id": "d76d0483",
   "metadata": {},
   "outputs": [
    {
     "name": "stdout",
     "output_type": "stream",
     "text": [
      "1을 제외한 자연수를 입력하세요:12\n",
      "12은 소수가 아닙니다.\n"
     ]
    }
   ],
   "source": [
    "n = int(input(\"1을 제외한 자연수를 입력하세요:\"))\n",
    "ox = True\n",
    "while ox:\n",
    "    for m in range(2, n):\n",
    "        if n % m != 0:\n",
    "            if m == (n-1):\n",
    "                print(f\"{n}(는)은 소수입니다.\")\n",
    "                ox = False\n",
    "            continue\n",
    "        else:\n",
    "            print(f\"{n}은 소수가 아닙니다.\")\n",
    "            ox = False\n",
    "            break;"
   ]
  }
 ],
 "metadata": {
  "kernelspec": {
   "display_name": "Python 3 (ipykernel)",
   "language": "python",
   "name": "python3"
  },
  "language_info": {
   "codemirror_mode": {
    "name": "ipython",
    "version": 3
   },
   "file_extension": ".py",
   "mimetype": "text/x-python",
   "name": "python",
   "nbconvert_exporter": "python",
   "pygments_lexer": "ipython3",
   "version": "3.10.9"
  }
 },
 "nbformat": 4,
 "nbformat_minor": 5
}
