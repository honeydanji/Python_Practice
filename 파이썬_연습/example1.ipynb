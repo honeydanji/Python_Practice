{
 "cells": [
  {
   "cell_type": "markdown",
   "id": "d44c64b4",
   "metadata": {},
   "source": [
    "# Input, format()"
   ]
  },
  {
   "cell_type": "markdown",
   "id": "2cb2778a",
   "metadata": {},
   "source": [
    "초를 입력하면 분과 초로 표시하는 프로그램. 예를 들어, 200초를 입력하면 3분 20초로 표현하라\n"
   ]
  },
  {
   "cell_type": "code",
   "execution_count": 1,
   "id": "8b8c99e2",
   "metadata": {},
   "outputs": [
    {
     "name": "stdout",
     "output_type": "stream",
     "text": [
      "초를 입력하세요: 300\n",
      "5분 0초\n"
     ]
    }
   ],
   "source": [
    "second = int(input(\"초를 입력하세요: \"))\n",
    "print(\"{}분 {}초\".format((second//60),(second%60)))"
   ]
  },
  {
   "cell_type": "markdown",
   "id": "eb6cf32d",
   "metadata": {},
   "source": [
    "분(min)을 입력 하면, 일, 시간, 분으로 출력하는 프로그램을 만들어라. (예 : 1550분은 1일 1시간 50분)\n"
   ]
  },
  {
   "cell_type": "code",
   "execution_count": null,
   "id": "265895b0",
   "metadata": {},
   "outputs": [],
   "source": [
    "min = int(input(\"분을 입력하세요: \"))\n",
    "print(\"{}일 {}시간 {}분\".format((min//1440),((min%1440)//60),((min%1440)%60)))"
   ]
  },
  {
   "cell_type": "markdown",
   "id": "c177dd0a",
   "metadata": {},
   "source": [
    "500만원을 년이율 5%로 복리 저금했을 때 5년 후의 원리금의 합계를 출력하는 프로그램\n"
   ]
  },
  {
   "cell_type": "code",
   "execution_count": 2,
   "id": "5f8a04ae",
   "metadata": {},
   "outputs": [
    {
     "name": "stdout",
     "output_type": "stream",
     "text": [
      "금액을 적어주세요: 5\n",
      "년 단위로 적어주세요: 5\n",
      "원금 : 5원, 이자 : 1.38원, 합계 : 6.38원\n"
     ]
    }
   ],
   "source": [
    "money = int(input(\"금액을 적어주세요: \"))\n",
    "year = int(input(\"년 단위로 적어주세요: \"))\n",
    "print(\"원금 : {}원, 이자 : {:.2f}원, 합계 : {:.2f}원\".format(money,(money*((1 + (year/100))**year)) - money, money*((1 + (year/100))**year)))\n"
   ]
  },
  {
   "cell_type": "markdown",
   "id": "fb411a39",
   "metadata": {},
   "source": [
    "1부터 n까지의 합은 n(n+1)/2로 주어진다. 1부터 100까지의 합을 구하여 출력하는 프로그램을 작성하고 실행하라.\n"
   ]
  },
  {
   "cell_type": "code",
   "execution_count": null,
   "id": "50b0d3cd",
   "metadata": {},
   "outputs": [],
   "source": [
    "number = int(input(\"1보다 큰 n을 입력하세요: \"))\n",
    "print(\"1부터 {}까지의 합 : {}\".format(number, (number*(number+1)/2)))\n"
   ]
  },
  {
   "cell_type": "markdown",
   "id": "01b2471a",
   "metadata": {},
   "source": [
    "판매자가 딸기와 포도를 판매하고 있다. 포도 한 알의 무게는 75g이고 딸기 한 알의 무게는 113.5g이다. 사용자로부터 포도 알의 개수와 딸기의 개수를 입력 받아 총 무게를 계산하여 출력하는 프로그램을 작성하고 실행하라."
   ]
  },
  {
   "cell_type": "code",
   "execution_count": null,
   "id": "4528b5a3",
   "metadata": {},
   "outputs": [],
   "source": [
    "st = 75\n",
    "gf = 113.5\n",
    "st_quantity = int(input(\"딸기개수: \"))\n",
    "gf_quantity = int(input(\"포도개수: \"))\n",
    "print(\"총 무게: {}\".format(st*st_quantity + gf*gf_quantity))"
   ]
  }
 ],
 "metadata": {
  "kernelspec": {
   "display_name": "Python 3 (ipykernel)",
   "language": "python",
   "name": "python3"
  },
  "language_info": {
   "codemirror_mode": {
    "name": "ipython",
    "version": 3
   },
   "file_extension": ".py",
   "mimetype": "text/x-python",
   "name": "python",
   "nbconvert_exporter": "python",
   "pygments_lexer": "ipython3",
   "version": "3.10.9"
  }
 },
 "nbformat": 4,
 "nbformat_minor": 5
}
