{
 "cells": [
  {
   "cell_type": "code",
   "execution_count": 57,
   "metadata": {},
   "outputs": [],
   "source": [
    "# 라이브러리 불러오기 \n",
    "import pandas as pd\n",
    "import numpy as np\n",
    "import seaborn as sns ### 데이터셋\n",
    "import matplotlib.pyplot as plt ### 시각화\n",
    "\n",
    "from itertools import combinations \n",
    "from sklearn.preprocessing import LabelEncoder\n",
    "from sklearn import metrics ### 메트릭\n",
    "from sklearn.model_selection import train_test_split, GridSearchCV ### 데이터 분할, 그리드서치\n",
    "from sklearn.ensemble import RandomForestClassifier ### 랜덤포레스트\n",
    "from sklearn.metrics import accuracy_score\n",
    "from sklearn.decomposition import PCA\n",
    "import matplotlib.patches as mpatches\n"
   ]
  },
  {
   "cell_type": "code",
   "execution_count": 25,
   "metadata": {},
   "outputs": [],
   "source": [
    "# 그래프 한글 표현\n",
    "plt.rcParams['font.family'] = 'Malgun Gothic'\n",
    "plt.rcParams['axes.unicode_minus'] = False"
   ]
  },
  {
   "cell_type": "code",
   "execution_count": 26,
   "metadata": {},
   "outputs": [],
   "source": [
    "# 목표 : 붓꼴 종을 분류하라 - RandomForest 사용하기\n",
    "\n",
    "## 데이터 불러오기\n",
    "iris = sns.load_dataset('iris')"
   ]
  },
  {
   "cell_type": "markdown",
   "metadata": {},
   "source": [
    "## 데이터 분석하기\n",
    "- 데이터가 어떻식으로 구성되었는 지 아는 것이 가장 중요하다.\n",
    "- info(), isnull() 등과 같은 여러 함수를 사용해서 데이터를 들여다 보자.\n",
    "- 대충 파악이 되면 그래프로도 한번 더 확인 해보자."
   ]
  },
  {
   "cell_type": "code",
   "execution_count": null,
   "metadata": {},
   "outputs": [],
   "source": [
    "## 결측치 확인\n",
    "print(iris.isnull().sum())\n",
    "\n",
    "### 붓꽃데이터는 결측치가 존재하지 않는다.\n",
    "### 모든 데이터가 붓꽃과 같이 데이터가 깔끔하지 않는다.\n",
    "### 그럴 때는 결측치를 추가하거나 제거하는 경우도 있다.\n",
    "### pandas를 잘 사용하면 데이터를 다루기 쉽다. \n",
    "### 행을 추가할 수도 있고 열을 추가할 수도 있고 또한 삭제할 수도 있다."
   ]
  },
  {
   "cell_type": "code",
   "execution_count": null,
   "metadata": {},
   "outputs": [],
   "source": [
    "## 데이터 자세하게 확인\n",
    "\n",
    "print(iris.info())\n",
    "### 꽃잎과 꽃받침의 데이터 타입은 정수이다\n",
    "### species의 타입은 object로 보인다.\n",
    "### 데이터 처리는 정수타입인 경우에만 가능하다.\n",
    "### 레이블 인코딩 또는 원핫인코딩을 이용해서 타입을 변경해줘야 한다.\n",
    "### 모델 자체에 내부인코딩 기능이 있는 경우도 있다.\n",
    "\n",
    "### 핵심은\n",
    "### 컴퓨터는 숫자로만 받아들이기 때문에\n",
    "### 정수형 데이터로 전부 변환해서 데이터를 처리해야한다.!!!!!!!"
   ]
  },
  {
   "cell_type": "markdown",
   "metadata": {},
   "source": [
    "#### 데이터 프레임 활용하기"
   ]
  },
  {
   "cell_type": "code",
   "execution_count": null,
   "metadata": {},
   "outputs": [],
   "source": [
    "iris_df = iris\n",
    "iris_df.head() ### head()의 defalut 값은 5\n",
    "iris_df"
   ]
  },
  {
   "cell_type": "code",
   "execution_count": null,
   "metadata": {},
   "outputs": [],
   "source": [
    "print(iris['species'].value_counts().sum()) \n",
    "\n",
    "iris_df.groupby(iris_df['species']).count() \n",
    "### 종을 기준으로 나머지 특성의 분포\n",
    "### 각각의 특성이 몇개가 있는 지 확인 \n",
    "### >> 분포가 일정하면 데이터를 분할할 때 stratify를 사용하지 않아도 된다.\n",
    "### 즉 원본데이터의 비율이 일정한 지 알아보기 위함이다.\n",
    "\n",
    "### 같은 코드지만 두번째 코드가 더 직관적으로 데이터의 분포를 알수있다.\n"
   ]
  },
  {
   "cell_type": "code",
   "execution_count": null,
   "metadata": {},
   "outputs": [],
   "source": [
    "iris_df.groupby(iris_df['species']).mean() \n",
    "### 각 특성의 평균 값\n",
    "\n",
    "### 평균값을 보면 평균적으로 어떤 종류의 꽃이 큰지 알 수있다.\n",
    "### 붓꽃을 분류하는데 있어서 큰 도움은 안되지만 \n",
    "### 데이터를 보는 눈을 기르기 위해서 작성해보자."
   ]
  },
  {
   "cell_type": "code",
   "execution_count": null,
   "metadata": {},
   "outputs": [],
   "source": [
    "## 데이터 시각화\n",
    "### g = sns.pairplot(iris, hue='species', markers='+') // 밑에 코드와 같은 의미다.\n",
    "g = sns.pairplot(iris.iloc[:,:], hue='species', markers='+')\n",
    "plt.show()\n",
    "### pairplot:  데이터에 모든 변수를 서로 비교하는 산점도 그리다.\n",
    "###            데이터 변수가 많을 경우에는 좀 복잡하게 보일수도 있다.\n",
    "\n",
    "'''\n",
    " sepal : 꽃받침 , petal : 꽃잎\n",
    "'''"
   ]
  },
  {
   "cell_type": "markdown",
   "metadata": {},
   "source": [
    "## 데이터 분류 및 모델 학습\n",
    "**RandomForest**\n",
    "- 분류나 회귀 어떠한 경우에도 사용이 가능하다.\n",
    "- 사용하는 가장 큰 이유는 과대적합의 문제를 피할수 있다.\n",
    "- 트리수의 따라서 결과값이 달라지기 때문에 트리수를 정하는 것이 포인트다.\n",
    "- KNN 모델처럼 반복문을 통해서 트리수를 결정하는 것도 좋은 방법이다.\n",
    "- 하지만 RandomForest 모델은 고차원데이터에 적합하다.\n",
    "- 해당 데이터는 정말 단순하기 때문에 굳이 RandomForest를 사용하지 않아도 될 것같다.\n"
   ]
  },
  {
   "cell_type": "markdown",
   "metadata": {},
   "source": [
    "#### Version1 - 기본, 하이퍼파라미터 튜닝x, 교차검증 x "
   ]
  },
  {
   "cell_type": "code",
   "execution_count": 55,
   "metadata": {},
   "outputs": [],
   "source": [
    "## 데이터 훈련용과 테스트용 분류\n",
    "X = iris.drop('species', axis=1) ### 타겟변수 제거\n",
    "y = iris['species'] ### 타겟변수\n",
    "\n",
    "le = LabelEncoder() ### 레이블 인코딩\n",
    "y = le.fit_transform(iris['species']) ### 숫자형 타입으로 변환해준다. >> 결정경계를 그리기 위함이다.\n",
    "\n",
    "X_train, X_test, y_train, y_test = train_test_split(X,y, test_size=0.3, random_state=0)"
   ]
  },
  {
   "cell_type": "code",
   "execution_count": 45,
   "metadata": {},
   "outputs": [
    {
     "name": "stdout",
     "output_type": "stream",
     "text": [
      "Train_Accuracy: 1.0\n",
      "Test_Accuracy: 0.9777777777777777\n",
      " \n",
      "훈련용 정확도가 1이 나오는 건 모델이 데이터를 확실하게 학습했다는 증거다.\n",
      "\n",
      "테스트용 정확도가 0.977이 나오는 건 과적합으로 보일 수 있지만, 현재 붓꽃 데이터\n",
      "는 아주 단순한 데이터라서 어쩔 수 없다. 대신 1이 나오지 않았다는 부분에서 일반화가\n",
      "잘 되고 있다는 걸로 보인다. \n",
      "\n"
     ]
    }
   ],
   "source": [
    "RF = RandomForestClassifier(n_estimators=100, random_state=0) ### 트리수 임의로 지정\n",
    "RF.fit(X_train, y_train) ### 모델 학습시키기\n",
    "\n",
    "## 훈련용 데이터 정확도\n",
    "y_train_pred = RF.predict(X_train)\n",
    "print('Train_Accuracy:', accuracy_score(y_train, y_train_pred)) \n",
    "\n",
    "## 테스트용 데이터 정확도\n",
    "y_Test_pred = RF.predict(X_test) ### 예측값\n",
    "print('Test_Accuracy:', accuracy_score(y_test, y_Test_pred)) ### 실제값 예측값 비교\n",
    "\n",
    "text = ''' \n",
    "훈련용 정확도가 1이 나오는 건 모델이 데이터를 확실하게 학습했다는 증거다.\n",
    "\n",
    "테스트용 정확도가 0.977이 나오는 건 과적합으로 보일 수 있지만, 현재 붓꽃 데이터\n",
    "는 아주 단순한 데이터라서 어쩔 수 없다. 대신 1이 나오지 않았다는 부분에서 일반화가\n",
    "잘 되고 있다는 걸로 보인다. \n",
    "'''\n",
    "print(text)\n"
   ]
  },
  {
   "cell_type": "markdown",
   "metadata": {},
   "source": [
    "#### Version2 - 하이퍼파라미터 튜닝o - 수동설정"
   ]
  },
  {
   "cell_type": "code",
   "execution_count": 29,
   "metadata": {},
   "outputs": [
    {
     "name": "stdout",
     "output_type": "stream",
     "text": [
      "Train_Accuracy: 1.0\n",
      "Test_Accuracy: 0.9777777777777777\n",
      " \n",
      "Version1과 같은 결과값이 나온다. 위에서 설정한 하이퍼 파라미터의 값이\n",
      "기본설정이기 때문이다. 즉 따로 하이퍼파라미터를 설정해주지 않으면 default값으로\n",
      "설정되는데 수동으로 설정한 하이퍼파라미터와 수치가 같다는 말이다.\n",
      "\n",
      "어떤 하이퍼파라미터가 있는 지 확인하기 위해서 코드를 작성했다.\n",
      "\n"
     ]
    }
   ],
   "source": [
    "RF = RandomForestClassifier(n_estimators=100, ### 트리수 임의로 지정\n",
    "                            max_features='sqrt', ### sqrt : 기능수(여기서는 4)\n",
    "                            max_depth=None, ### 트리 최대 깊이\n",
    "                            min_samples_split=2, ### 내부 노드 분할 샘플수\n",
    "                            min_samples_leaf=1, ### 노드 최소 샘플수\n",
    "                            bootstrap=True, ### 데이터 무작위 여부/ 여기선 사용 True\n",
    "                            random_state=0) \n",
    "\n",
    "RF.fit(X_train, y_train) ### 모델 학습시키기\n",
    "\n",
    "## 훈련용 데이터 정확도\n",
    "y_train_pred = RF.predict(X_train)\n",
    "print('Train_Accuracy:', accuracy_score(y_train, y_train_pred)) \n",
    "\n",
    "## 테스트용 데이터 정확도\n",
    "y_Test_pred = RF.predict(X_test) ### 예측값\n",
    "print('Test_Accuracy:', accuracy_score(y_test, y_Test_pred)) ### 실제값 예측값 비교\n",
    "\n",
    "text = ''' \n",
    "Version1과 같은 결과값이 나온다. 위에서 설정한 하이퍼 파라미터의 값이\n",
    "기본설정이기 때문이다. 즉 따로 하이퍼파라미터를 설정해주지 않으면 default값으로\n",
    "설정되는데 수동으로 설정한 하이퍼파라미터와 수치가 같다는 말이다.\n",
    "\n",
    "어떤 하이퍼파라미터가 있는 지 확인하기 위해서 코드를 작성했다.\n",
    "'''\n",
    "print(text)"
   ]
  },
  {
   "cell_type": "markdown",
   "metadata": {},
   "source": [
    "#### Version3 - 하이퍼파라미터 튜닝o - GridSearch 사용"
   ]
  },
  {
   "cell_type": "code",
   "execution_count": null,
   "metadata": {},
   "outputs": [],
   "source": [
    "RF = RandomForestClassifier(random_state=0)\n",
    "\n",
    "## 하이퍼파라미터 설정 - 딕셔너리\n",
    "param_grid={\n",
    "    'n_estimators': [50, 100, 200],\n",
    "    'max_features': ['sqrt'],\n",
    "    'max_depth' : [None, 5, 10],\n",
    "    'min_samples_split' : [2, 5],\n",
    "    'min_samples_leaf' : [1, 2],\n",
    "    'bootstrap' : [True, False]\n",
    "}\n",
    "\n",
    "## GridSearch 객체 생성\n",
    "grid_search = GridSearchCV(estimator=RF, ### 모델 설정\n",
    "                          param_grid=param_grid, ### 하이퍼파라미터 설정(하이퍼파리미터의 조합은 상황에 맞춰서 하자.)\n",
    "                          cv=5) ### 교차검증 \n",
    "                                ### 학습용데이터를 5개로 분류한다.\n",
    "                                ### 그 중에서 4개는 학습용데이터 1개는 검증용 데이터로 나눈다.(cv=6이면 5개와 1개로 구분.)\n",
    "                                ### 위와 같은 과정을 5번 반복하는데 그게 \"CV = 5\" 라는 말이다.\n",
    "                                ### 5개의 교차검증수치를 평균을 낸다\n",
    "\n",
    "grid_search.fit(X_train, y_train) ### 모델 학습 \n",
    "\n",
    "cv_results_df = pd.DataFrame(grid_search.cv_results_) ### 교차검증 수치를 데이터프레임을 통해 출력한다.\n",
    "#print(cv_results_df.sort_values(by='std_score_time', ascending=False).head()) ### by=''를 기준으로 내림차순 정렬 후 상위 5개 출력\n",
    "\n",
    "print(\"Best paramters: \", grid_search.best_params_) ### 최상의 하이퍼파라미터 출력\n",
    "print(\"Best score: \", grid_search.best_score_) ### 교차검증 점수 출력\n",
    "                                               ### 교차검증 점수가 좋으면\n",
    "                                               ### 테스트용 데이터로 결과를 도출하자.\n",
    "                                               ### 좋지 않다면 모델을 개선시켜야 한다.\n",
    "\n",
    "## 최상의 하이퍼파라미터 모델 학습\n",
    "best_model = grid_search.best_estimator_ ### 최상의 하이퍼파라미터를 모델에 저장.\n",
    "best_model.fit(X_train, y_train) ### 최상위 모델 학습\n",
    "y_pred = best_model.predict(X_test) ### 예측값 변수 초기화\n",
    "print(\"Accuracy: \", accuracy_score(y_test, y_pred)) ### 예측값과 실제값을 비교\n",
    "\n",
    "text = '''\n",
    "!! GridSearch !!\n",
    "최상의 하이퍼파라미터 조합을 찾을 수 있다. 하지만\n",
    "훈련시간이 정말 오래걸린다. 해당 데이터는 정말 단순하기 때문에 47.6초가 \n",
    "걸렸지만 이것보다 더 많은 데이터를 다룰 때는 많은 시간과 비용이 든다.\n",
    "하지만 그만큼 성능이 좋은 모델을 구성할 수 있다. \n",
    "(교차검증 필수.... 그러나 교차검증만 따로 사용 가능.)\n",
    "\n",
    "!! 교차검증 !!\n",
    "GridSearch에서 교차검증은 필수다. 교차검증을 통해 최상의 하이퍼파라미터 \n",
    "조합을 찾을수 있다.그럼 당연히 교차검증을 통한 수치를 확인할 필요가 있다.\n",
    "교차검증을 통해서 할 수 있는 핵심은 성능 추정치를 제공하는 것이다.\n",
    "\n",
    "성능추정치(교차검증수치)를 통해서 새로운 데이터의 학습을 예측할 수 있다.\n",
    "즉 교차검증수치는 모델의 성능이 얼마나 뛰어난가를 보여주는 수치다.\n",
    "'''\n",
    "print(text)\n"
   ]
  },
  {
   "cell_type": "markdown",
   "metadata": {},
   "source": [
    "##### 교차검증\n",
    "\n",
    "**왜 사용하냐?**\n",
    "- 목적에 맞게 모델을 구성하고 훈련용 데이터를 이용해서 데이터를 학습시켰다. 그 다음에 새로운 데이터를 넣어서 결과를 도출해야한다....\n",
    "- 하지만 모델이 제대로 작동하는 지 모르기 때문에 무작정 새로운 데이터를 넣어서 학습 시킬 수는 없다. 왜냐 시간과 비용이 들기 때문이다.\n",
    "- 그래서 교차검증을 통해서 모델의 성능을 미리 판단하고, 문제가 없을 경우에 새로운 데이터를 넣어 결과를 도출한다면 시간과 비용을 아낄수 있다.\n",
    "\n",
    "**교차검증수치의 좋고 나쁨을 판단하는 기준이 뭔가?**\n",
    "- 주어진 데이터나 상황에 따라 점수의 기준이 달라진다. \n",
    "- 기준을 판단하는데 있어 가장 쉬운 방법은 캐글같은 데이터 대회 사이트의 도메인 전문가의 결과물과 비교하는 것이다.\n",
    "- 내가 구성한 모델의 교차검증 점수와 전문가가 구성한 모델의 교차검증 점수를 비교하는 방법이다.\n",
    "- 추후에 프로젝트를 할 때 교차검증과 같은 모델의 성능을 판단하는 건 정말 중요하기 때문에\n",
    "- 꼭 꼭 교차검증을 하는 이유와 방법에 대해서 기억하자.\n",
    "\n",
    "####"
   ]
  },
  {
   "cell_type": "code",
   "execution_count": 68,
   "metadata": {},
   "outputs": [
    {
     "name": "stderr",
     "output_type": "stream",
     "text": [
      "C:\\Users\\HA SEONG JIN\\AppData\\Local\\Packages\\PythonSoftwareFoundation.Python.3.11_qbz5n2kfra8p0\\LocalCache\\local-packages\\Python311\\site-packages\\sklearn\\base.py:464: UserWarning: X does not have valid feature names, but RandomForestClassifier was fitted with feature names\n",
      "  warnings.warn(\n"
     ]
    },
    {
     "data": {
      "image/png": "[encoded data removed]",
      "text/plain": [
       "<Figure size 1000x500 with 1 Axes>"
      ]
     },
     "metadata": {},
     "output_type": "display_data"
    }
   ],
   "source": [
    "## 결정경계  \n",
    "\n",
    "### 시각화를 위해 데이터를 2차원으로 줄이는 PCA\n",
    "pca = PCA(n_components=2).fit(X_train)\n",
    "pca_2d = pca.transform(X_train)\n",
    "\n",
    "### 그래프를 그리기 위해 미리 설정\n",
    "colors = 'ryb'\n",
    "cmap = plt.cm.RdYlBu\n",
    "plot_step = 0.02  \n",
    "plot_step_coarser = 0.5  \n",
    "RANDOM_SEED = 13  \n",
    "\n",
    "plt.figure(figsize=(10, 5))\n",
    "\n",
    "### 학습 데이터 포인트를 그리기\n",
    "for color, i, target_name in zip(colors, [0, 1, 2], iris['species']):\n",
    "    plt.scatter(pca_2d[y_train == i, 0], pca_2d[y_train == i, 1], color=color, label=target_name)\n",
    "\n",
    "plt.suptitle(\"Decision surface of a RandomForestClassifier\")\n",
    "plt.legend(loc='lower right', borderpad=0, handletextpad=0)\n",
    "plt.axis(\"tight\")\n",
    "\n",
    "### 두 축에 대해 가능한 모든 점들을 생성\n",
    "x_min, x_max = pca_2d[:, 0].min() - 1, pca_2d[:, 0].max() + 1\n",
    "y_min, y_max = pca_2d[:, 1].min() - 1, pca_2d[:, 1].max() + 1\n",
    "xx, yy = np.meshgrid(np.arange(x_min, x_max, plot_step),\n",
    "                     np.arange(y_min, y_max, plot_step))\n",
    "\n",
    "### 각 점에 대해 예측\n",
    "Z = best_model.predict(pca.inverse_transform(np.c_[xx.ravel(), yy.ravel()]))\n",
    "Z = Z.reshape(xx.shape)\n",
    "\n",
    "### 등고선 그래프를 그림으로써 결정 경계 표시\n",
    "cs = plt.contourf(xx, yy, Z, cmap=cmap)\n",
    "\n",
    "plt.show()"
   ]
  },
  {
   "cell_type": "code",
   "execution_count": 67,
   "metadata": {},
   "outputs": [
    {
     "name": "stdout",
     "output_type": "stream",
     "text": [
      "Feature: 0, score: 0.09495\n",
      "Feature: 1, score: 0.02255\n",
      "Feature: 2, score: 0.46897\n",
      "Feature: 3, score: 0.41352\n"
     ]
    },
    {
     "data": {
      "image/png": "[encoded data removed]",
      "text/plain": [
       "<Figure size 1000x500 with 1 Axes>"
      ]
     },
     "metadata": {},
     "output_type": "display_data"
    }
   ],
   "source": [
    "## 중요도 그래프 그려서 출력하기\n",
    "importance = best_model.feature_importances_\n",
    "\n",
    "for i,v in enumerate(importance):\n",
    "    print('Feature: %0d, score: %.5f' % (i,v))\n",
    "\n",
    "plt.figure(figsize=(10,5))\n",
    "plt.barh([x for x in range(len(importance))], importance, tick_label=X_train.columns)\n",
    "plt.title('붓꽃 중요도')\n",
    "plt.xlabel('중요도')\n",
    "plt.show()"
   ]
  }
 ],
 "metadata": {
  "kernelspec": {
   "display_name": "Python 3",
   "language": "python",
   "name": "python3"
  },
  "language_info": {
   "codemirror_mode": {
    "name": "ipython",
    "version": 3
   },
   "file_extension": ".py",
   "mimetype": "text/x-python",
   "name": "python",
   "nbconvert_exporter": "python",
   "pygments_lexer": "ipython3",
   "version": "3.11.4"
  },
  "orig_nbformat": 4
 },
 "nbformat": 4,
 "nbformat_minor": 2
}
