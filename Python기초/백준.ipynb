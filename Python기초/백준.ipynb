{
 "cells": [
  {
   "cell_type": "code",
   "execution_count": 1,
   "metadata": {},
   "outputs": [
    {
     "name": "stdout",
     "output_type": "stream",
     "text": [
      "문제 설명 :  \n",
      "    R1 \n",
      "    R2\n",
      "    S = (R1 + R2)/2 == 평균\n",
      "    \n",
      "    S 와 R1의 값이 주어질 때 R2를 구하라.\n",
      "    \n",
      "\n",
      "14\n"
     ]
    }
   ],
   "source": [
    "# R2 - 3064번\n",
    "\n",
    "\n",
    "def text():\n",
    "    \"\"\"\n",
    "    R1 \n",
    "    R2\n",
    "    S = (R1 + R2)/2 == 평균\n",
    "    \n",
    "    S 와 R1의 값이 주어질 때 R2를 구하라.\n",
    "    \"\"\"  \n",
    "def main():\n",
    "    print(\"문제 설명 : \",text.__doc__)\n",
    "    print()\n",
    "    \n",
    "    R1, S = map(int, input().split())\n",
    "    \n",
    "    \n",
    "    if -1000 <= R1 <= 1000 and -1000 <= S <= 1000:\n",
    "        R2 = 2 * S - R1\n",
    "        print(R2)\n",
    "    else :\n",
    "        print(\"다시 입력 : \")\n",
    "        R1 = int(input())\n",
    "        S = int(input())\n",
    "        \n",
    "main()\n"
   ]
  },
  {
   "cell_type": "code",
   "execution_count": 4,
   "metadata": {},
   "outputs": [
    {
     "name": "stdout",
     "output_type": "stream",
     "text": [
      "\n",
      "        1. 초콜릿 크기 =  N * M \n",
      "        2. 초콜릿 조각수 = N * M \n",
      "        \n",
      "        해결 : 규칙이 존재한다.\n",
      "        \n",
      "    \n",
      "0\n"
     ]
    }
   ],
   "source": [
    "#  초콜릿 - 2163번\n",
    "\n",
    "def text():\n",
    "    '''\n",
    "        1. 초콜릿 크기 =  N * M \n",
    "        2. 초콜릿 조각수 = N * M \n",
    "        \n",
    "        해결 : 규칙이 존재한다.\n",
    "        \n",
    "    '''\n",
    "    pass\n",
    "\n",
    "def main():\n",
    "    print(text.__doc__) \n",
    "    pass\n",
    "\n",
    "    N, M = map(int, input().split()) \n",
    "    print(N * M - 1)\n",
    "\n",
    "main()    "
   ]
  },
  {
   "cell_type": "code",
   "execution_count": 5,
   "metadata": {},
<<<<<<< HEAD
   "outputs": [
    {
     "name": "stdout",
     "output_type": "stream",
     "text": [
      "2023-07-17\n"
     ]
    }
   ],
   "source": [
    "# 10699번 - 오늘 날짜\n",
    "\n",
    "from datetime import datetime\n",
    "\n",
    "print(datetime.today().strftime('%Y-%m-%d'))"
   ]
  },
  {
   "cell_type": "code",
   "execution_count": 6,
   "metadata": {},
   "outputs": [
    {
     "name": "stdout",
     "output_type": "stream",
     "text": [
      "47\n",
      "tjdwls3680\n"
     ]
    }
   ],
   "source": [
    "# 7287번 - 등록\n",
    "\n",
    "print(47)\n",
    "print(\"tjdwls3680\")"
   ]
  },
  {
   "cell_type": "code",
   "execution_count": 50,
   "metadata": {},
   "outputs": [
    {
     "ename": "IndentationError",
     "evalue": "expected an indented block after function definition on line 8 (915038557.py, line 9)",
     "output_type": "error",
     "traceback": [
      "\u001b[1;36m  Cell \u001b[1;32mIn[50], line 9\u001b[1;36m\u001b[0m\n\u001b[1;33m    A, B, C = map(int, input().split(\" \")) ### 시, 분, 초\u001b[0m\n\u001b[1;37m    ^\u001b[0m\n\u001b[1;31mIndentationError\u001b[0m\u001b[1;31m:\u001b[0m expected an indented block after function definition on line 8\n"
     ]
    }
   ],
   "source": [
    "# 2530 - 인공지능 시계\n",
    "\n",
    "def txet():\n",
    "    '''\n",
    "    구현\n",
    "    '''\n",
    "\n",
    "def main():\n",
    "    print(text.__doc__)\n",
    "    A, B, C = map(int, input().split(\" \")) ### 시, 분, 초\n",
    "    D = int(input()) ### 입력 초\n",
    "\n",
    "    C = C + D % 60\n",
    "    if C >= 60:\n",
    "        C -= 60\n",
    "        B += 1\n",
    "\n",
    "    B = B + (D // 60) % 60\n",
    "    if B >= 60:\n",
    "        B -= 60\n",
    "        A += 1\n",
    "\n",
    "    A = A + ((D // 60) // 60)\n",
    "    if A >= 24:\n",
    "        A = A % 24\n",
    "\n",
    "    print(A, B, C)\n",
    "    \n",
    "main()"
   ]
  },
  {
   "cell_type": "code",
   "execution_count": 49,
   "metadata": {},
   "outputs": [
    {
     "name": "stdout",
     "output_type": "stream",
     "text": [
      "\n",
      "        규칙문제\n",
      "    \n"
     ]
    },
    {
     "name": "stdout",
     "output_type": "stream",
     "text": [
      "91\n"
     ]
    }
   ],
   "source": [
    "# 2914번 - 저작권\n",
    "\n",
    "def text():\n",
    "    '''\n",
    "        규칙문제\n",
    "    '''\n",
    "\n",
    "def main():\n",
    "    print(text.__doc__)\n",
    "    A, I = map(int, input().split(\" \"))\n",
    "    print((A * (I - 1)) + 1)\n",
    "\n",
    "main()"
   ]
  },
  {
   "cell_type": "code",
   "execution_count": 41,
   "metadata": {},
   "outputs": [
    {
     "name": "stdout",
     "output_type": "stream",
     "text": [
      "18\n"
     ]
    }
   ],
   "source": [
    "print(114 % 24)"
   ]
=======
   "outputs": [],
   "source": [
    "# 화성 수학 - 5355번\n",
    "\n",
    "def text():\n",
    "    '''\n",
    "        @ == *3\n",
    "        % == +5\n",
    "        # == -7\n",
    "        1. 테스트케이수 수\n",
    "        2. 입력 \n",
    "    '''\n",
    "\n",
    "def main():\n",
    "    #print(text.__doc__)\n",
    "    \n",
    "    list = []\n",
    "    total = 0\n",
    "    tc = int(input()) ### 테스트 케이수\n",
    "    \n",
    "    for i in range(tc): ### 테스트 수만큼 반복한다.\n",
    "        list[i] = map(int, input().split(\" \"))\n",
    "        \n",
    "        # if a == '@':\n",
    "        #     pass\n",
    "        # elif a == '%':\n",
    "        #     pass\n",
    "        # elif a == '#':\n",
    "        #     pass\n",
    "        # else:\n",
    "        #     total += a\n",
    "        \n",
    "    return list[2]\n",
    "\n",
    "main()"
   ]
>>>>>>> c7c0b0dcf349afca78e5900c649a8674682c668a
  }
 ],
 "metadata": {
  "kernelspec": {
   "display_name": "base",
   "language": "python",
   "name": "python3"
  },
  "language_info": {
   "codemirror_mode": {
    "name": "ipython",
    "version": 3
   },
   "file_extension": ".py",
   "mimetype": "text/x-python",
   "name": "python",
   "nbconvert_exporter": "python",
   "pygments_lexer": "ipython3",
   "version": "3.11.4"
  },
  "orig_nbformat": 4
 },
 "nbformat": 4,
 "nbformat_minor": 2
}
