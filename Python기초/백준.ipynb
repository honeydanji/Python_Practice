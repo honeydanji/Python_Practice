{
 "cells": [
  {
   "cell_type": "code",
   "execution_count": 1,
   "metadata": {},
   "outputs": [
    {
     "name": "stdout",
     "output_type": "stream",
     "text": [
      "문제 설명 :  \n",
      "    R1 \n",
      "    R2\n",
      "    S = (R1 + R2)/2 == 평균\n",
      "    \n",
      "    S 와 R1의 값이 주어질 때 R2를 구하라.\n",
      "    \n",
      "\n",
      "14\n"
     ]
    }
   ],
   "source": [
    "# R2 - 3064번\n",
    "\n",
    "\n",
    "def text():\n",
    "    \"\"\"\n",
    "    R1 \n",
    "    R2\n",
    "    S = (R1 + R2)/2 == 평균\n",
    "    \n",
    "    S 와 R1의 값이 주어질 때 R2를 구하라.\n",
    "    \"\"\"  \n",
    "def main():\n",
    "    print(\"문제 설명 : \",text.__doc__)\n",
    "    print()\n",
    "    \n",
    "    R1, S = map(int, input().split())\n",
    "    \n",
    "    \n",
    "    if -1000 <= R1 <= 1000 and -1000 <= S <= 1000:\n",
    "        R2 = 2 * S - R1\n",
    "        print(R2)\n",
    "    else :\n",
    "        print(\"다시 입력 : \")\n",
    "        R1 = int(input())\n",
    "        S = int(input())\n",
    "        \n",
    "main()\n"
   ]
  },
  {
   "cell_type": "code",
   "execution_count": 3,
   "metadata": {},
   "outputs": [
    {
     "name": "stdout",
     "output_type": "stream",
     "text": [
      "\n"
     ]
    }
   ],
   "source": [
    "#  초콜릿 - 2163번\n",
    "\n",
    "def text():\n",
    "    '''\n",
    "        1. 초콜릿 크기 =  N * M \n",
    "        2. 초콜릿 조각수 = N * M \n",
    "        3. \n",
    "    '''\n",
    "    pass\n",
    "\n",
    "def main():\n",
    "    print(text.__doc__) \n",
    "    pass\n",
    "\n",
    "main()    "
   ]
  },
  {
   "cell_type": "code",
   "execution_count": null,
   "metadata": {},
   "outputs": [],
   "source": []
  }
 ],
 "metadata": {
  "kernelspec": {
   "display_name": "base",
   "language": "python",
   "name": "python3"
  },
  "language_info": {
   "codemirror_mode": {
    "name": "ipython",
    "version": 3
   },
   "file_extension": ".py",
   "mimetype": "text/x-python",
   "name": "python",
   "nbconvert_exporter": "python",
   "pygments_lexer": "ipython3",
   "version": "3.10.9"
  },
  "orig_nbformat": 4
 },
 "nbformat": 4,
 "nbformat_minor": 2
}
