{
 "cells": [
  {
   "cell_type": "markdown",
   "id": "412a2fe8",
   "metadata": {},
   "source": [
    "# 연습문제"
   ]
  },
  {
   "cell_type": "markdown",
   "id": "6066061c",
   "metadata": {},
   "source": [
    "### 1~n까지의 합을 계산하는 함수\n"
   ]
  },
  {
   "cell_type": "code",
   "execution_count": 13,
   "id": "d451b92d",
   "metadata": {},
   "outputs": [
    {
     "name": "stdout",
     "output_type": "stream",
     "text": [
      "1부터 n까지의 합 : 55\n"
     ]
    }
   ],
   "source": [
    "def add_sum(n):\n",
    "    summ = 0\n",
    "    for i in range(0, n+1):\n",
    "        summ += i\n",
    "    return summ\n",
    "\n",
    "print(f\"1부터 n까지의 합 : {add_sum(10)}\")"
   ]
  },
  {
   "cell_type": "markdown",
   "id": "04750635",
   "metadata": {},
   "source": [
    "### 반지름을 전달하면 원의 면적을 반환하는 cir_area(r) 함수와 원의 둘레를 반환하는 cir_cirm(r) 함수를 작성하라. 이들 함수를 이용하여 반지름이 3.5cm인 원의 면적과 둘레를 소수점 아래 첫 자리까지 구하라."
   ]
  },
  {
   "cell_type": "code",
   "execution_count": 18,
   "id": "19ad407c",
   "metadata": {},
   "outputs": [
    {
     "name": "stdout",
     "output_type": "stream",
     "text": [
      "원의 면적: 38.47\n",
      "원의 둘레: 21.98\n"
     ]
    }
   ],
   "source": [
    "def cir_area(r):\n",
    "    return 3.14 * (r**2)\n",
    "\n",
    "def cir_cirm(r):\n",
    "    return 2 * 3.14 * r\n",
    "\n",
    "print(f\"원의 면적: {cir_area(3.5):.2f}\") # :.2f >> 소수점 두번째 자리\n",
    "print(f\"원의 둘레: {cir_cirm(3.5)}\")"
   ]
  },
  {
   "cell_type": "markdown",
   "id": "2383458d",
   "metadata": {},
   "source": [
    "### den(n) 함수를 이용하여 약수를 구하여 반환하는 프로그램을 작성\n",
    "* 12 > [1, 2, 3, 4, 6, 12]\n"
   ]
  },
  {
   "cell_type": "code",
   "execution_count": 24,
   "id": "36fc26f5",
   "metadata": {},
   "outputs": [
    {
     "name": "stdout",
     "output_type": "stream",
     "text": [
      "12의 약수:[1, 2, 3, 4, 6, 12]\n"
     ]
    }
   ],
   "source": [
    "a = [] #배열 선언\n",
    "def den(n):\n",
    "    for i in range(1, n+1):\n",
    "        if (n % i) == 0:\n",
    "            a.append(i) #배열 값 추가\n",
    "    return a\n",
    "\n",
    "print(f\"12의 약수:{den(12)}\")"
   ]
  },
  {
   "attachments": {},
   "cell_type": "markdown",
   "id": "e74d7f07",
   "metadata": {},
   "source": [
    "### 두 개의 매개변수 n, m을 전달받아 m x n개의 * 상자를 출력하는 프로그램을 함수로 작성\n",
    "\n",
    "*예: 2, 4 > ****               ****\n"
   ]
  },
  {
   "cell_type": "code",
   "execution_count": 15,
   "id": "a79267fb",
   "metadata": {},
   "outputs": [
    {
     "name": "stdout",
     "output_type": "stream",
     "text": [
      "****\n"
     ]
    }
   ],
   "source": [
    "def x_box(m, n):\n",
    "    i = 0\n",
    "    while i < m:\n",
    "        i += 1\n",
    "        ss = '*' * n\n",
    "        return ss\n",
    "    \n",
    "print(x_box(2, 4))"
   ]
  },
  {
   "attachments": {},
   "cell_type": "markdown",
   "id": "5985e046",
   "metadata": {},
   "source": [
    "### 하나의 숫자를 전달받아 숫자의 자리 합을 구하는 함수를 작성\u000b",
    "\n",
    "\n",
    "* 예: 123 > 1+2+3 = 6"
   ]
  },
  {
   "cell_type": "code",
   "execution_count": 20,
   "id": "95360946",
   "metadata": {},
   "outputs": [
    {
     "name": "stdout",
     "output_type": "stream",
     "text": [
      "6\n"
     ]
    }
   ],
   "source": [
    "def sum_of_digits(number):\n",
    "    # 숫자를 문자열로 변환\n",
    "    number_str = str(number)\n",
    "    \n",
    "    # 합을 저장할 변수를 초기화\n",
    "    digit_sum = 0\n",
    "    \n",
    "    # 문자열의 각 문자를 반복\n",
    "    for char in number_str:\n",
    "        # 문자를 다시 정수로 변환하고 합하기.\n",
    "        digit_sum += int(char)\n",
    "    \n",
    "    # 최종 합을 반환\n",
    "    return digit_sum\n",
    "\n",
    "print(sum_of_digits(123))"
   ]
  },
  {
   "attachments": {},
   "cell_type": "markdown",
   "id": "06f14b27",
   "metadata": {},
   "source": [
    "### 두 개의 문자열이 서로 다른 처음 위치를 반환하는 함수를 작성. 두 개의 문자열이 같으면 -1을 반환\n"
   ]
  },
  {
   "cell_type": "code",
   "execution_count": null,
   "id": "72b3cff0",
   "metadata": {},
   "outputs": [],
   "source": []
  }
 ],
 "metadata": {
  "kernelspec": {
   "display_name": "Python 3 (ipykernel)",
   "language": "python",
   "name": "python3"
  },
  "language_info": {
   "codemirror_mode": {
    "name": "ipython",
    "version": 3
   },
   "file_extension": ".py",
   "mimetype": "text/x-python",
   "name": "python",
   "nbconvert_exporter": "python",
   "pygments_lexer": "ipython3",
   "version": "3.10.9"
  }
 },
 "nbformat": 4,
 "nbformat_minor": 5
}
