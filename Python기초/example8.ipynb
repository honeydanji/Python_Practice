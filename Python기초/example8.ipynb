{
 "cells": [
  {
   "attachments": {},
   "cell_type": "markdown",
   "metadata": {},
   "source": [
    "## 모드에 따른 파일 열기\n",
    "\n",
    "- r: 읽기 모드. 파일을 읽기 위해서 사용합니다. 파일이 존재하지 않으면 오류가 발생합니다.\n",
    "- w: 쓰기 모드. 파일을 쓰기 위해서 사용합니다. 파일이 이미 존재하면 덮어쓰고, 존재하지 않으면 새로운 파일을 생성합니다.\n",
    "- a: 추가 모드. 파일의 끝에 내용을 추가하기 위해서 사용합니다. 파일이 이미 존재하면 파일 끝에 내용을 추가하고, 존재하지 않으면 새로운 파일을 생성합니다.\n",
    "- x: 배타적 생성 모드. 새로운 파일을 생성하기 위해서 사용합니다. 파일이 이미 존재하면 오류가 발생합니다.\n",
    "- b: 이진 모드. 파일을 바이너리 모드로 엽니다.\n",
    "- t: 텍스트 모드. 파일을 텍스트 모드로 엽니다. 이것이 기본값입니다.\n",
    "- +: 읽기와 쓰기 모두를 지원하는 모드입니다. r+, w+, a+와 같은 형태로 사용됩니다.\n",
    "\n"
   ]
  },
  {
   "cell_type": "code",
   "execution_count": null,
   "metadata": {},
   "outputs": [],
   "source": [
    "# 읽기 모드로 파일을 엽니다.\n",
    "file = open(\"example.txt\", \"r\")\n",
    "content = file.read()\n",
    "print(\"읽기 모드 예시:\")\n",
    "print(content)\n",
    "file.close()\n",
    "\n",
    "# 쓰기 모드로 파일을 엽니다.  # 파일이 존재하지 않을 때 자동으로 만들어준다.\n",
    "file = open(\"example.txt\", \"w\") \n",
    "file.write(\"This is an example.\\n\")\n",
    "file.write(\"We are writing to a file.\\n\")\n",
    "print(\"쓰기 모드 예시:\")\n",
    "print(\"파일이 생성되었습니다.\")\n",
    "file.close()\n",
    "\n",
    "# 추가 모드로 파일을 엽니다.\n",
    "file = open(\"example.txt\", \"a\")\n",
    "file.write(\"We are appending to a file.\\n\")\n",
    "print(\"추가 모드 예시:\")\n",
    "print(\"파일이 열렸고 내용이 추가되었습니다.\")\n",
    "file.close()\n",
    "\n",
    "# 배타적 생성 모드로 파일을 엽니다.\n",
    "file = open(\"example2.txt\", \"x\")\n",
    "file.write(\"This is a new file.\\n\")\n",
    "print(\"배타적 생성 모드 예시:\")\n",
    "print(\"새로운 파일이 생성되었습니다.\")\n",
    "file.close()\n",
    "\n",
    "# 이진 모드로 파일을 엽니다.\n",
    "file = open(\"example.bin\", \"wb\")\n",
    "file.write(b\"This is binary data.\")\n",
    "print(\"이진 모드 예시:\")\n",
    "print(\"바이너리 파일이 생성되었습니다.\")\n",
    "file.close()\n",
    "\n",
    "# 읽기와 쓰기를 지원하는 모드로 파일을 엽니다.\n",
    "file = open(\"example.txt\", \"r+\")\n",
    "content = file.read()\n",
    "print(\"읽기와 쓰기를 지원하는 모드 예시:\")\n",
    "print(\"파일 내용:\")\n",
    "print(content)\n",
    "file.write(\"\\nWe are writing to the file again.\")\n",
    "file.close()\n",
    "\n",
    "# with문 : 파일을 열고 작업을 마치면 파일을 자동으로 닫아준다.\n",
    "with open(\"Test.txt\", \"r\") as file:\n",
    "    # 파일 내용 전체를 읽습니다.\n",
    "    content = file.read()\n",
    "    print(\"read() 함수 예시:\")\n",
    "    print(content)\n",
    "\n",
    "    # 파일에서 한 줄을 읽습니다.\n",
    "    file.seek(0)  # 파일 포인터를 처음으로 돌립니다.\n",
    "    line = file.readline()\n",
    "    print(\"\\nreadline() 함수 예시:\")\n",
    "    print(line)\n",
    "\n",
    "    # 파일 전체를 읽고 각 줄을 리스트로 반환합니다.\n",
    "    file.seek(0)  # 파일 포인터를 처음으로 돌립니다.\n",
    "    lines = file.readlines()\n",
    "    print(\"\\nreadlines() 함수 예시:\")\n",
    "    print(lines)\n"
   ]
  },
  {
   "cell_type": "code",
   "execution_count": null,
   "metadata": {},
   "outputs": [],
   "source": [
    "# 읽기 모드로 파일을 엽니다.\n",
    "file = open(\"example.txt\", \"r\")\n",
    "content = file.read()\n",
    "print(\"읽기 모드 예시:\")\n",
    "print(content)\n",
    "file.close()"
   ]
  }
 ],
 "metadata": {
  "kernelspec": {
   "display_name": "base",
   "language": "python",
   "name": "python3"
  },
  "language_info": {
   "codemirror_mode": {
    "name": "ipython",
    "version": 3
   },
   "file_extension": ".py",
   "mimetype": "text/x-python",
   "name": "python",
   "nbconvert_exporter": "python",
   "pygments_lexer": "ipython3",
   "version": "3.10.9"
  },
  "orig_nbformat": 4
 },
 "nbformat": 4,
 "nbformat_minor": 2
}
