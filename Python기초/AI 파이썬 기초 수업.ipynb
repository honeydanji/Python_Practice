{
 "cells": [
  {
   "cell_type": "code",
   "execution_count": 1,
   "metadata": {},
   "outputs": [
    {
     "name": "stdout",
     "output_type": "stream",
     "text": [
      "higer\n",
      "lower\n",
      "good\n",
      "The while loop is over\n",
      "dd\n"
     ]
    }
   ],
   "source": [
    "number = 23\n",
    "running = True\n",
    "\n",
    "while running:\n",
    "    guess = int(input(\"Enter an integer: \"))\n",
    "    if guess == number:\n",
    "        print(\"good\")\n",
    "        running = False\n",
    "    elif guess < number:\n",
    "        print(\"higer\")\n",
    "    elif guess > number:\n",
    "        print(\"lower\")\n",
    "else:\n",
    "    print(\"The while loop is over\")\n",
    "    20\n",
    "print(\"dd\")"
   ]
  },
  {
   "cell_type": "code",
   "execution_count": 2,
   "metadata": {},
   "outputs": [
    {
     "name": "stdout",
     "output_type": "stream",
     "text": [
      "Min:  5\n",
      "Max:  6\n",
      "Ave: 5.0\n"
     ]
    }
   ],
   "source": [
    "num = int(input(\"Enter : \"))\n",
    "count = 0\n",
    "total = 0\n",
    "min_val = num\n",
    "max_val = num\n",
    "\n",
    "while True:\n",
    "    count += 1\n",
    "    total += num\n",
    "    num = int(input(\"Enter : \"))\n",
    "    \n",
    "    if num < min_val:\n",
    "        min_val = num\n",
    "    if num > max_val:\n",
    "        max_val = num\n",
    "    \n",
    "    if count == 5:\n",
    "        print(\"Min: \", min_val)\n",
    "        print(\"Max: \", max_val)\n",
    "        print(\"Ave:\", total / count)\n",
    "        break\n",
    "        "
   ]
  },
  {
   "cell_type": "code",
   "execution_count": 31,
   "metadata": {},
   "outputs": [
    {
     "name": "stdout",
     "output_type": "stream",
     "text": [
      "++++*\n",
      "+++**\n",
      "++***\n",
      "+****\n",
      "*****\n"
     ]
    }
   ],
   "source": [
    "#list(range(2,9))\n",
    "\n",
    "#for i in range(2, 8):\n",
    "    #print(i)\n",
    "    \n",
    "# list(range(2, 999, 200))\n",
    "\n",
    "\n",
    "num = int(input(\"Enter : \"))\n",
    "\n",
    "for i in range(1,num+1):\n",
    "    for j in range(num-i):\n",
    "        print('+', end='')\n",
    "    print(\"*\" * i)\n"
   ]
  },
  {
   "cell_type": "code",
   "execution_count": 71,
   "metadata": {},
   "outputs": [
    {
     "name": "stdout",
     "output_type": "stream",
     "text": [
      "\n"
     ]
    }
   ],
   "source": [
    "# 입력받은 문자열 거꾸로 출력하기\n",
    "\n",
    "word = input(\"Enter: \")\n",
    "reversedWord = ''\n",
    "count = 0\n",
    "#print(word[:3] + word[-1] + word[-2])\n",
    "#print(word[::-1]) ## 처음부터 끝까지 가는데 거꾸로 가라.\n",
    "#print(''.join(reversed(list[word])))\n",
    "\n",
    "# for ch in word:\n",
    "#     if count >= (len(word) - 2):\n",
    "#         reversedWord = ch + reversedWord\n",
    "#     else :\n",
    "#         reversedWord = reversedWord + ch\n",
    "#     count += 1\n",
    "# print(reversedWord)\n",
    "\n",
    "\n",
    "while count == len(word):    \n",
    "    if count >= len(word) - 2:\n",
    "        for count in range(len(word)):\n",
    "            reversedWord = reversedWord + word[-(len(word) - count)]\n",
    "    else:\n",
    "        for i in range(len(word)):\n",
    "            reversedWord = reversedWord + word[i]\n",
    "    count += 1\n",
    "print(reversedWord)"
   ]
  },
  {
   "cell_type": "code",
   "execution_count": 45,
   "metadata": {},
   "outputs": [
    {
     "name": "stdout",
     "output_type": "stream",
     "text": [
      "123\n",
      "456\n",
      "789\n",
      "abcd\n"
     ]
    }
   ],
   "source": [
    "# 파일 읽기\n",
    "infile = open('tests.txt', 'r')\n",
    "\n",
    "for s in infile:\n",
    "    #print(s, end='') # 줄바꿈 1번 지운다.\n",
    "    print(s.rstrip()) # 줄바꿈 없이 출력한다\n",
    "    \n",
    "infile.close()\n",
    "\n",
    "## 텍스트 파일에는 기본적으로 \\n 들어 있어서 줄바꿈이 2번 발생한다."
   ]
  },
  {
   "cell_type": "code",
   "execution_count": 46,
   "metadata": {},
   "outputs": [
    {
     "name": "stdout",
     "output_type": "stream",
     "text": [
      "Jisung Park\n"
     ]
    }
   ],
   "source": [
    "# 파일 읽고 단어 검색하기\n",
    "\n",
    "firstName = input(\"Enter:\")\n",
    "foundFlag = False\n",
    "\n",
    "infile = open('tests.txt')\n",
    "\n",
    "for s in infile:\n",
    "    if s.startswith(firstName + ''):\n",
    "        print(s.strip())\n",
    "        "
   ]
  },
  {
   "cell_type": "code",
   "execution_count": 50,
   "metadata": {},
   "outputs": [
    {
     "name": "stdout",
     "output_type": "stream",
     "text": [
      "Input is od sufficient length\n"
     ]
    }
   ],
   "source": [
    "while True:\n",
    "    s = input('Enter:')\n",
    "    if s == 'quit':\n",
    "        break\n",
    "    if len(s) < 3:\n",
    "        print('Too short')\n",
    "        continue\n",
    "    print('Input is od sufficient length')"
   ]
  },
  {
   "cell_type": "code",
   "execution_count": 93,
   "metadata": {},
   "outputs": [
    {
     "name": "stdout",
     "output_type": "stream",
     "text": [
      "What you don't know won't hurt you]\n"
     ]
    }
   ],
   "source": [
    "# 문자 교체하기\n",
    "\n",
    "\n",
    "# 1\n",
    "s = input(\"Enter: \")\n",
    "word1 = input(\"Enter word to replace :\")\n",
    "word2 = input(\"Enter replacerment word :\")\n",
    "ss = s.split(' ')\n",
    "ss2 = []\n",
    "\n",
    "for sss in ss:\n",
    "    ssss = sss.replace('word1', 'word2')\n",
    "    ss2.append(ssss)\n",
    "    \n",
    "print(\" \".join(ss2))\n",
    "\n",
    "# 2\n",
    "# replace를 사용하지 않고 해보자. "
   ]
  },
  {
   "cell_type": "code",
   "execution_count": null,
   "metadata": {},
   "outputs": [],
   "source": [
    "# 이자율 계산\n",
    "\n",
    "f = int(input(\"Enter future value :\")) # eval(input('Enter future value :')) : eval(int, float)\n",
    "r = int(input(\"Enter interest rate :\"))\n",
    "n = int(input(\"Enter number of years :\"))\n",
    "\n",
    "value = f / (1 + r / 100)**n\n",
    "\n",
    "print(round(f / (1 + r / 100)**n, 2)) # round( , n) :  n번째 소수점 반올림\n",
    "print(\"{:.2f}\".format(value))"
   ]
  },
  {
   "cell_type": "code",
   "execution_count": 99,
   "metadata": {},
   "outputs": [
    {
     "name": "stdout",
     "output_type": "stream",
     "text": [
      "[[10, 20]]\n",
      "[20, 30, 40]\n"
     ]
    }
   ],
   "source": [
    "num1 = []\n",
    "num2 = []\n",
    "num1.append([10, 20]) # 형태가 어떻든 간에 1개의 요소만 넣을 수 있다.\n",
    "num2.extend([20,30,40]) # 여러개의 요소를 추가할 수 있다.\n",
    "\n",
    "print(num1)\n",
    "print(num2)"
   ]
  },
  {
   "cell_type": "code",
   "execution_count": 102,
   "metadata": {},
   "outputs": [
    {
     "name": "stdout",
     "output_type": "stream",
     "text": [
      "(1, 2, 3)\n",
      "1 2 3\n"
     ]
    }
   ],
   "source": [
    "def tmp():\n",
    "    return 1, 2, 3\n",
    "\n",
    "r1 = tmp() # 튜플\n",
    "v1, v2, v3 = tmp()\n",
    "\n",
    "print(r1)\n",
    "print(v1, v2, v3)"
   ]
  },
  {
   "cell_type": "code",
   "execution_count": null,
   "metadata": {},
   "outputs": [],
   "source": [
    "def sum_array(regions):\n",
    "    v1 = 0\n",
    "    v2 = ''\n",
    "    for e in regions:\n",
    "        v1 += int(e[0])\n",
    "        v2 += (e[1])\n",
    "        \n",
    "    return(str(v1), v2)\n",
    "        \n",
    "regions = [('1', 1), ('2', 2), ('3', 3)]  # 튜플\n",
    "\n",
    "print(sum_array(regions))\n"
   ]
  },
  {
   "cell_type": "code",
   "execution_count": 119,
   "metadata": {},
   "outputs": [
    {
     "name": "stdout",
     "output_type": "stream",
     "text": [
      "['mango', 'game', 'car']\n",
      "['mango', 'game', 'car']\n",
      "['apple', 'mango', 'game', 'car']\n",
      "1865951728768\n",
      "1865951728768\n",
      "1864016149568\n"
     ]
    }
   ],
   "source": [
    "shopList = ['apple', 'mango', 'game', 'car']\n",
    "\n",
    "myList = shopList \n",
    "# 메모리 주소가 같다. 즉 같은 곳을 가리킨다? ``\n",
    "# 값 자체를 저장한 것이 아니고, 메모리 주소를 저장하기 때문이다. >> 객체를 저장한다. \n",
    "# 해결법은? \n",
    "# 자바 : 새로운 객체(인스턴스)를 만들어 해당 데이터를 넣고 수정한다.\n",
    "# 파이썬 : 메모리 주소가 아닌 데이터를 하니씩 저장한다. \n",
    "\n",
    "myList2 = shopList[:]\n",
    "\n",
    "del myList[0] # 요소 지우기.\n",
    "\n",
    "print(shopList)\n",
    "print(myList)\n",
    "print(myList2)\n",
    "\n",
    "print(id(shopList))  # id() : 메모리 주소 출력\n",
    "print(id(myList))\n",
    "print(id(myList2))"
   ]
  },
  {
   "attachments": {},
   "cell_type": "markdown",
   "metadata": {},
   "source": [
    "# 파이썬 괄호 종류\n",
    "\n",
    "* [ ] : 리스트 \n",
    "* ( ) : 튜플 : 수정못함\n",
    "* { } : 셋 : 중복없음\n",
    "* {key : velue} : 딕셔너리 : 키와 값 존재 and 키는 중복이 안됌!"
   ]
  },
  {
   "cell_type": "code",
   "execution_count": 11,
   "metadata": {},
   "outputs": [
    {
     "name": "stdout",
     "output_type": "stream",
     "text": [
      "Number of bounces:  13\n",
      "Meters traveled: 44.82\n"
     ]
    }
   ],
   "source": [
    "jump = eval(input(\"Enter coefficeient of restitution: \")) # 0.7\n",
    "first = eval(input(\"Enter initial height in meters: \"))  # 8\n",
    "\n",
    "count = 1\n",
    "total_meter = first\n",
    "\n",
    "while True:\n",
    "    total_meter += 2*(first * jump) # 튀어 오른 높이 \n",
    "    first = first * jump # 초기값 리셋\n",
    "    count = count + 1 # 튀어 오른 횟수\n",
    "    \n",
    "    if (first * jump) < 0.1:\n",
    "        break\n",
    "\n",
    "print(\"Number of bounces: \" , count)\n",
    "print(f\"Meters traveled: {round(total_meter, 2)}\")\n"
   ]
  },
  {
   "cell_type": "code",
   "execution_count": 3,
   "metadata": {},
   "outputs": [
    {
     "name": "stdout",
     "output_type": "stream",
     "text": [
      "27000001\n"
     ]
    }
   ],
   "source": [
    "# 정수 자릿수 합\n",
    "\n",
    "total = 0\n",
    "for a in range(1, 1000001):\n",
    "    #a = list(map(int, str(a)))\n",
    "    for b in str(a): ### 정수를 str()을 사용하면 알아서 리스트로 변환된다.\n",
    "        total += int(b)\n",
    "print(total)\n",
    "\n",
    "\n"
   ]
  },
  {
   "cell_type": "code",
   "execution_count": 2,
   "metadata": {},
   "outputs": [
    {
     "name": "stdout",
     "output_type": "stream",
     "text": [
      "First word:  a\n",
      "Last word:  c\n"
     ]
    }
   ],
   "source": [
    "sentence = input(\"Enter a sentence: \")\n",
    "\n",
    "list = sentence.split(' ')\n",
    "print(\"First word: \",list[0])\n",
    "print(\"Last word: \", list[-1])"
   ]
  },
  {
   "cell_type": "code",
   "execution_count": 10,
   "metadata": {},
   "outputs": [
    {
     "name": "stdout",
     "output_type": "stream",
     "text": [
      "Middle name:  Andrew\n"
     ]
    }
   ],
   "source": [
    "name = input(\"Enter a 3-part name: \")\n",
    "list = []\n",
    "list = name.split(' ')\n",
    "\n",
    "print(\"Middle name: \", list[1])"
   ]
  },
  {
   "cell_type": "code",
   "execution_count": 19,
   "metadata": {},
   "outputs": [
    {
     "name": "stdout",
     "output_type": "stream",
     "text": [
      "\n",
      "    주석 연습\n",
      "    \n",
      "\n",
      "    Returns:\n",
      "        _type_: _description_\n",
      "    \n"
     ]
    }
   ],
   "source": [
    "#함수 연습\n",
    "\n",
    "def simple_def():\n",
    "    \"\"\"\n",
    "    주석 연습\n",
    "    \"\"\"\n",
    "    pass\n",
    "\n",
    "def Test():\n",
    "    \"\"\"\n",
    "    Returns:\n",
    "        _type_: _description_\n",
    "    \"\"\"\n",
    "    return simple_def.__doc__    \n",
    " \n",
    "print(Test())       \n",
    "print(Test.__doc__)  ### 주석 출력이 가능함.\n",
    "\n"
   ]
  },
  {
   "cell_type": "code",
   "execution_count": 20,
   "metadata": {},
   "outputs": [
    {
     "name": "stdout",
     "output_type": "stream",
     "text": [
      "['blue', 'red', 'white']\n",
      "['white', 'red', 'blue']\n",
      "['red', 'blue', 'white']\n",
      "['white', 'blue', 'red']\n",
      "['a', 'm', 'p', 's']\n"
     ]
    }
   ],
   "source": [
    "list1 = ['white', 'blue', 'red']\n",
    "list2 = sorted(list1)\n",
    "print(list2)\n",
    "print(sorted(list1, reverse=True)) ### 반대로 출력\n",
    "print(sorted(list1, key=len)) ### 글자수 기준 출력(오름차순) \n",
    "print(list1) ### 그냥 출력\n",
    "print(sorted('spam')) ### 알파벳순으로 출력(리스트 자동 저장)"
   ]
  },
  {
   "cell_type": "code",
   "execution_count": 21,
   "metadata": {},
   "outputs": [
    {
     "data": {
      "text/plain": [
       "[4, 25, 36, 49]"
      ]
     },
     "execution_count": 21,
     "metadata": {},
     "output_type": "execute_result"
    }
   ],
   "source": [
    "list1 = ['2', '5', '6', '7']\n",
    "[int(x) for x in list1] ### int형으로 변환하고 리스트로 저장\n",
    "\n",
    "def g(x):\n",
    "    return(int(x) ** 2)\n",
    "\n",
    "[g(x) for x in list1]"
   ]
  },
  {
   "cell_type": "code",
   "execution_count": 3,
   "metadata": {},
   "outputs": [
    {
     "name": "stdout",
     "output_type": "stream",
     "text": [
      "The Gettysburg Address contains 268 words.\n",
      "The Gettysburg Address contains 139 defferent words.\n",
      "\n",
      "The most common words and their frequencies are:\n",
      "      and: 6\n",
      "      a: 7\n",
      "      and: 6\n",
      "      to: 8\n",
      "      a: 7\n",
      "      and: 6\n",
      "      the: 11\n",
      "      to: 8\n",
      "      a: 7\n",
      "      and: 6\n",
      "      that: 13\n",
      "      the: 11\n",
      "      to: 8\n",
      "      a: 7\n",
      "      and: 6\n",
      "      that: 13\n",
      "      the: 11\n",
      "      we: 10\n",
      "      to: 8\n",
      "      a: 7\n",
      "      and: 6\n",
      "      that: 13\n",
      "      the: 11\n",
      "      we: 10\n",
      "      to: 8\n",
      "      here: 8\n",
      "      a: 7\n",
      "      and: 6\n"
     ]
    }
   ],
   "source": [
    "def main():\n",
    "    listOfWords = formListOfWords(\"Gettysburg.txt\")\n",
    "    freq = createFrequencyDictionary(listOfWords)\n",
    "    displayWordCount(listOfWords, freq)\n",
    "    displayMostCommonWords(freq)\n",
    "    \n",
    "def formListOfWords(fileName):\n",
    "    infile = open(fileName)\n",
    "    originalLine = infile.readline().lower()\n",
    "    infile.close()\n",
    "    \n",
    "    line = \"\"\n",
    "    for ch in originalLine:\n",
    "        if ('a' <= ch <= 'z') or (ch == \" \"):\n",
    "            line += ch\n",
    "            \n",
    "    listOfWords = line.split()\n",
    "    return listOfWords\n",
    "\n",
    "def createFrequencyDictionary(listOfWords):\n",
    "    freq = {}\n",
    "    for word in listOfWords:\n",
    "        freq[word] = 0\n",
    "    for word in listOfWords:\n",
    "        freq[word] = freq[word] + 1\n",
    "    return freq\n",
    "    \n",
    "def displayWordCount(listOfWords, freq):\n",
    "    print(\"The Gettysburg Address contains\", len(listOfWords), \"words.\")\n",
    "    print(\"The Gettysburg Address contains\", len(freq), \"defferent words.\")\n",
    "    print()\n",
    "    \n",
    "def displayMostCommonWords(freq):\n",
    "    print(\"The most common words and their frequencies are:\")\n",
    "    # listOfMostCommonWords = []\n",
    "    # for word in freq.keys():\n",
    "    #     if freq[word] >= 6:\n",
    "    #         listOfMostCommonWords.append((word, freq[word]))\n",
    "            \n",
    "    # 리스트 컴플?\n",
    "    listOfMostCommonWords = \\\n",
    "    [(word, freq[word]) for word in freq if freq[word] >= 6]        \n",
    "            \n",
    "    listOfMostCommonWords.sort(key=lambda x: x[1], reverse=True)\n",
    "    for item in listOfMostCommonWords:\n",
    "        print(\"     \", item[0] + ':', item[1])\n",
    "                \n",
    "main()"
   ]
  },
  {
   "cell_type": "code",
   "execution_count": 24,
   "metadata": {},
   "outputs": [
    {
     "name": "stdout",
     "output_type": "stream",
     "text": [
      "Length in miles: 0\n"
     ]
    }
   ],
   "source": [
    "def main():\n",
    "    dic = {}\n",
    "    fr = input(\"Unit to convert from: \")\n",
    "    to = input(\"Unit to conver to: \")\n",
    "    score = eval(input(\"Enter length in uards: \"))\n",
    "    a = 0\n",
    "    b = 0 \n",
    "\n",
    "    with open('Units.txt', 'r') as f:\n",
    "        for line in f:\n",
    "            key, value = line.strip().split(\",\")\n",
    "            dic[key] = value\n",
    "\n",
    "    for key, value in dic.items():\n",
    "        if fr == key:\n",
    "            a = score * float(value)\n",
    "            \n",
    "    for key, value in enumerate(dic):\n",
    "        if to == key:\n",
    "            b = a / float(value)\n",
    "    \n",
    "    print(f\"Length in miles: {round(b, 4)}\")\n",
    "            \n",
    "main()"
   ]
  },
  {
   "cell_type": "code",
   "execution_count": 4,
   "metadata": {},
   "outputs": [
    {
     "name": "stdout",
     "output_type": "stream",
     "text": [
      "fire\n",
      "['earth', 'air']\n",
      "['air', 'fire', 'earth']\n",
      "1\n"
     ]
    }
   ],
   "source": [
    "import random\n",
    "\n",
    "elements = [\"earth\", \"air\", \"fire\"]\n",
    "print(random.choice(elements)) ### 랜덤으로 1개 고른다\n",
    "print(random.sample(elements, 2)) ### 랜덤으로 2개 고른다\n",
    "random.shuffle(elements) ### 섞는다. \n",
    "print(elements) ### 섞은 걸 뽑는다.\n",
    "print(random.randint(1,5)) ### 1 ~ 5 아무거나 뽑느다."
   ]
  },
  {
   "cell_type": "code",
   "execution_count": 23,
   "metadata": {},
   "outputs": [
    {
     "name": "stdout",
     "output_type": "stream",
     "text": [
      "Melon: 64748 (0.64748)\n",
      "Bar: 4932 (0.04932)\n",
      "Cherries: 25193 (0.25193)\n",
      "Bell: 5127 (0.05127)\n"
     ]
    }
   ],
   "source": [
    "import random\n",
    "def main():\n",
    "    # for _ in range(4): ### 3번 해라\n",
    "    #     outcome = spinWheel() \n",
    "    #     print(outcome, end=\"   \") ### 출력값 끝에 공백 \n",
    "        \n",
    "    num = 100000        \n",
    "    dict_cnt = {}\n",
    "    for _ in range(num):\n",
    "        outcome = spinWheel()\n",
    "        dict_cnt[outcome] = dict_cnt.get(outcome, 0) + 1\n",
    "    \n",
    "    for k, v in dict_cnt.items():\n",
    "        print('{}: {} ({})'.format(k, v, v/num))\n",
    "\n",
    "def spinWheel():  \n",
    "    n = random.randint(1, 20) ### 1 ~ 20 랜덤 \n",
    "    \n",
    "    if n > 15:\n",
    "        return \"Cherries\"\n",
    "    elif n > 2:\n",
    "        return \"Melon\"\n",
    "    elif n > 1:\n",
    "        return \"Bell\"\n",
    "    else:\n",
    "        return \"Bar\"\n",
    "    \n",
    "main()      "
   ]
  },
  {
   "cell_type": "code",
   "execution_count": 20,
   "metadata": {},
   "outputs": [
    {
     "name": "stdout",
     "output_type": "stream",
     "text": [
      "Reduction to lowest terms: 2/5\n"
     ]
    }
   ],
   "source": [
    "from fraction import Fraction\n",
    "\n",
    "def main():        \n",
    "    a, b = map(int, input(\"Enter numerator or denominator of fraction : \").split(\" \"))\n",
    "\n",
    "    fraction = Fraction(a, b) ### 초기값 저장\n",
    "    c, d = fraction.reduce()\n",
    "\n",
    "    print(\"Reduction to lowest terms: {}/{}\".format(c, d))\n",
    "\n",
    "\n",
    "main()"
   ]
  },
  {
   "cell_type": "code",
   "execution_count": 23,
   "metadata": {},
   "outputs": [],
   "source": [
    "from fraction import Fraction\n",
    "\n",
    "def main():\n",
    "    number = input(\"Enter: \")\n",
    "    \n",
    "    if number[0] == '0':\n",
    "        precision = len(number[2:])\n",
    "    elif number[0] == '.':\n",
    "        precision = len(number[1:])\n",
    "    else:\n",
    "        return\n",
    "    \n",
    "    numer = int(float(number) * 10**precision)\n",
    "    denom = int(10**precision)\n",
    "    \n",
    "    frac = Fraction(numer, denom)\n",
    "    try:\n",
    "        numer_reduced, denom_reduced = frac.reduce()\n",
    "        \n",
    "        if denom_reduced == 1:\n",
    "            print('Reduction: {}'.format(numer_reduced))\n",
    "        else :\n",
    "            print('Reduction: {}/{}'.format(numer_reduced, denom_reduced))\n",
    "    except Exception as exp:\n",
    "        print(exp)"
   ]
  },
  {
   "cell_type": "code",
   "execution_count": 28,
   "metadata": {},
   "outputs": [
    {
     "name": "stdout",
     "output_type": "stream",
     "text": [
      "i am parent\n",
      "i am child\n",
      "i am parent\n",
      "temp parent\n",
      "temp parent\n"
     ]
    }
   ],
   "source": [
    "class Parent:\n",
    "    def __init__(self):\n",
    "        self._parent = \"i am parent\"\n",
    "        self._temp = 'temp parent'\n",
    "        \n",
    "class Child(Parent): ### 부모클래스를 상속 받을 때 ~~~\n",
    "    def __init__(self):\n",
    "        super().__init__() \n",
    "        self._child = 'i am child'\n",
    "        self._temp = 'temp child'\n",
    "        super().__init__() \n",
    "\n",
    "p = Parent()\n",
    "c = Child()\n",
    "\n",
    "\n",
    "print(p._parent)\n",
    "print(c._child)\n",
    "print(c._parent)\n",
    "\n",
    "print(p._temp)\n",
    "print(c._temp)\n",
    "        "
   ]
  },
  {
   "cell_type": "code",
   "execution_count": 35,
   "metadata": {},
   "outputs": [
    {
     "name": "stdout",
     "output_type": "stream",
     "text": [
      "i am A\n",
      "i am B\n",
      "i am A\n",
      "i am B\n",
      "i am E\n",
      "(<class '__main__.E'>, <class '__main__.B'>, <class '__main__.A'>, <class 'object'>)\n",
      "(<class '__main__.J'>, <class '__main__.H'>, <class '__main__.F'>, <class '__main__.G'>, <class '__main__.I'>, <class '__main__.E'>, <class '__main__.B'>, <class '__main__.A'>, <class 'object'>)\n"
     ]
    }
   ],
   "source": [
    "class A:\n",
    "    def print():\n",
    "        print('i am A')\n",
    "        \n",
    "class B:\n",
    "    def print():\n",
    "        print('i am B')\n",
    "        \n",
    "class C(A, B): ### 다중 상속 : 우선 순위는 왼쪽부터다.\n",
    "    pass\n",
    "\n",
    "class D(B, A):\n",
    "    pass\n",
    "\n",
    "class E(B, A):\n",
    "    def print():\n",
    "        print('i am E')\n",
    "        \n",
    "class F:\n",
    "    def print():\n",
    "        print('i am F')\n",
    "        \n",
    "class G:\n",
    "    def print():\n",
    "        print('i am G')\n",
    "        \n",
    "class H(F, G):\n",
    "    pass\n",
    "\n",
    "class I(E):\n",
    "    pass\n",
    "\n",
    "class J(H, I):\n",
    "    pass\n",
    "\n",
    "A.print()\n",
    "B.print()\n",
    "C.print() ### 가까운 부모를 먼저 출력한다. \n",
    "D.print() ###\n",
    "E.print() ### 상속을 받아도 자기 자신이 가장 우선이다.\n",
    "\n",
    "print(E.__mro__) ### __mor__ : 해당클래스가 받고 있는 상속 순서\n",
    "print(J.__mro__)"
   ]
  },
  {
   "cell_type": "code",
   "execution_count": 43,
   "metadata": {},
   "outputs": [],
   "source": [
    "class Contestant:\n",
    "    def __init__(self, name):\n",
    "        self.name = name\n",
    "        self.score = 0\n",
    "        \n",
    "    def choose(self):\n",
    "        pass\n",
    "    \n",
    "    def update_score(self, points):\n",
    "        self.score += points\n",
    "        \n",
    "        \n",
    "class Human(Contestant):    \n",
    "    def choose(self): ### 부모클래스 함수구현\n",
    "        super().__init__()\n",
    "        choice = input(f\"{self.name} enter your choice: rock, paper, scissors \")\n",
    "        return choice.lower()\n",
    "        \n",
    "class Computer(Contestant):\n",
    "    ''' \n",
    "    묵,찌,빠 가 랜덤으로 나오면 된다.\n",
    "    '''\n",
    "    def choose(self, computer): ### 부모클래스 함수구현\n",
    "        choices = ['rock', 'paper', 'scissors']\n",
    "        print(f\"{computer} chooses {random.choice(choices)}\")\n",
    "        return random.choice(choices)\n",
    "      \n",
    "def getGameResults(choice1, choice2, name_human, name_computer):\n",
    "    list_case = [('rock', 'scissors'),\n",
    "                 ('scissors', 'paper'),\n",
    "                 ('paper', 'rock')]\n",
    "    \n",
    "    if (choice1, choice2) in list_case:\n",
    "        return 1 ### 휴먼 승리\n",
    "    elif choice1 == choice2:\n",
    "        return 0 ### 무승부\n",
    "    else:\n",
    "        return -1 ### 컴퓨터 승리\n",
    "        \n",
    "def main():\n",
    "    name_human = input(\"Enter name of human: \")\n",
    "    name_computer = input(\"Enter name of computer: \")\n",
    "    \n",
    "    human = Human(name_human)\n",
    "    computer = Computer(name_computer)\n",
    "    \n",
    "    getGameResults(human, computer, name_human, name_computer)\n",
    "     \n",
    "main()\n",
    "\n",
    "    \n",
    "    \n",
    "    "
   ]
  }
 ],
 "metadata": {
  "kernelspec": {
   "display_name": "base",
   "language": "python",
   "name": "python3"
  },
  "language_info": {
   "codemirror_mode": {
    "name": "ipython",
    "version": 3
   },
   "file_extension": ".py",
   "mimetype": "text/x-python",
   "name": "python",
   "nbconvert_exporter": "python",
   "pygments_lexer": "ipython3",
   "version": "3.10.9"
  },
  "orig_nbformat": 4
 },
 "nbformat": 4,
 "nbformat_minor": 2
}
